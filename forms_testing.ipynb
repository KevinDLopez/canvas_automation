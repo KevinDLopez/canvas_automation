{
 "cells": [
  {
   "cell_type": "markdown",
   "metadata": {},
   "source": [
    "# Google Forms"
   ]
  },
  {
   "cell_type": "code",
   "execution_count": 1,
   "metadata": {},
   "outputs": [],
   "source": [
    "# https://forms.gle/VP7qS5F3GzU2QLBRA\n",
    "# https://docs.google.com/forms/d/e/1FAIpQLSftqW9lIXy-g9IwpVfGGlDlYS-BKmxsSBb5_9o9MYfX6VB9ow/viewform?usp=sf_link\n",
    "\n",
    "# !pip install --upgrade google-api-python-client google-auth-httplib2 google-auth-oauthlib\n",
    "# Viewing a form - working \n",
    "from googleapiclient import discovery\n",
    "from google.auth.transport.requests import Request\n",
    "from google.oauth2.credentials import Credentials\n",
    "from google_auth_oauthlib.flow import InstalledAppFlow\n",
    "import os.path\n",
    "\n",
    "SCOPES = [\n",
    "    \"https://www.googleapis.com/auth/forms.body\",\n",
    "    \"https://www.googleapis.com/auth/spreadsheets\",\n",
    "    \"https://www.googleapis.com/auth/drive.file\"\n",
    "]\n",
    "DISCOVERY_DOC = \"https://forms.googleapis.com/$discovery/rest?version=v1\"\n",
    "\n",
    "creds = None\n",
    "# The file token.json stores the user's access and refresh tokens, and is\n",
    "# created automatically when the authorization flow completes for the first time.\n",
    "if os.path.exists(\"token.json\"):\n",
    "    creds = Credentials.from_authorized_user_file(\"token.json\", SCOPES)\n",
    "# If there are no (valid) credentials available, let the user log in.\n",
    "if not creds or not creds.valid:\n",
    "    if creds and creds.expired and creds.refresh_token:\n",
    "        creds.refresh(Request())\n",
    "    else:\n",
    "        flow = InstalledAppFlow.from_client_secrets_file(\"client_secrets.json\", SCOPES)\n",
    "        creds = flow.run_local_server(port=0)\n",
    "    # Save the credentials for the next run\n",
    "    with open(\"token.json\", \"w\") as token:\n",
    "        token.write(creds.to_json())\n",
    "    \n",
    "# Creating form service\n",
    "form_service = discovery.build(\"forms\", \"v1\", credentials=creds,)\n",
    "sheets_service = discovery.build(\"sheets\", \"v4\", credentials=creds)\n"
   ]
  },
  {
   "cell_type": "code",
   "execution_count": 2,
   "metadata": {},
   "outputs": [
    {
     "name": "stdout",
     "output_type": "stream",
     "text": [
      "{'formId': '14vM9XQp7BgHLA6JjtasZoxlFlGfRJdlqrRZqhcw9XHs', 'info': {'title': 'Python A Testing', 'description': 'Description ', 'documentTitle': 'Python A Testing'}, 'settings': {}, 'revisionId': '0000001f', 'responderUri': 'https://docs.google.com/forms/d/e/1FAIpQLSftqW9lIXy-g9IwpVfGGlDlYS-BKmxsSBb5_9o9MYfX6VB9ow/viewform', 'items': [{'itemId': '6db7d7a2', 'title': 'Untitled Question 1', 'questionItem': {'question': {'questionId': '4ce28e38', 'required': True, 'choiceQuestion': {'type': 'CHECKBOX', 'options': [{'value': 'Option 1'}, {'value': 'Option 2'}]}}}}, {'itemId': '0275da25', 'title': 'Question 2 ', 'questionItem': {'question': {'questionId': '3299072c', 'choiceQuestion': {'type': 'DROP_DOWN', 'options': [{'value': 'Option 1'}, {'value': 'Option 2'}, {'value': 'Option 3'}]}}}}, {'itemId': '1da8df20', 'title': 'Question 3 (linear scale) ', 'questionItem': {'question': {'questionId': '76e521e5', 'scaleQuestion': {'low': 1, 'high': 5}}}}, {'itemId': '384f587f', 'questionGroupItem': {'questions': [{'questionId': '68d0f090', 'rowQuestion': {'title': 'Row 1'}}, {'questionId': '420a7ec9', 'rowQuestion': {'title': 'Row 2'}}], 'grid': {'columns': {'type': 'CHECKBOX', 'options': [{'value': 'Column 1'}, {'value': 'Column 2'}]}}}, 'title': 'Question 4  ( Checkbox grid ) '}], 'linkedSheetId': '1btgWEAi5AP2I1WOJn6z8ncPYASOul0Ik9ZCJXmF6ui4'}\n"
     ]
    }
   ],
   "source": [
    "\n",
    "# Prints the title of the sample form:\n",
    "form_id = \"14vM9XQp7BgHLA6JjtasZoxlFlGfRJdlqrRZqhcw9XHs\"\n",
    "result = form_service.forms().get(formId=form_id).execute()\n",
    "print(result)\n",
    "\n",
    "\n",
    "# Now create a google form "
   ]
  },
  {
   "cell_type": "code",
   "execution_count": 5,
   "metadata": {},
   "outputs": [
    {
     "name": "stdout",
     "output_type": "stream",
     "text": [
      "batch_update_reponse {'replies': [{'createItem': {'itemId': '77713cf4', 'questionId': ['53745c7a']}}, {'createItem': {'itemId': '10d0361b', 'questionId': ['2604b423']}}], 'writeControl': {'requiredRevisionId': '00000004'}}\n",
      "Form ID: 1SWOV9lAlfN9vPwC03v25vMNgm6t22_B7iZ6tBUR-0ZQ\n",
      "Form URL: https://docs.google.com/forms/d/1SWOV9lAlfN9vPwC03v25vMNgm6t22_B7iZ6tBUR-0ZQ/edit\n"
     ]
    }
   ],
   "source": [
    "# *  Creating a form with some questions \n",
    "\n",
    "\n",
    "# Create the form with just the title\n",
    "form = {\n",
    "    \"info\": {\n",
    "        \"title\": \"Sample Form\"\n",
    "    }\n",
    "}\n",
    "\n",
    "created_form = form_service.forms().create(body=form).execute()\n",
    "\n",
    "# Define the batch update request to add questions\n",
    "form_questions = [\n",
    "    {\n",
    "        \"createItem\": {\n",
    "            \"item\": {\n",
    "                \"title\": \"What is your name?\",\n",
    "                \"questionItem\": {\n",
    "                    \"question\": {\n",
    "                        \"required\": True,\n",
    "                        \"textQuestion\": {}\n",
    "                    }\n",
    "                }\n",
    "            },\n",
    "            \"location\": {\n",
    "                \"index\": 0\n",
    "            }\n",
    "        }\n",
    "    },\n",
    "    {\n",
    "        \"createItem\": {\n",
    "            \"item\": {\n",
    "                \"title\": \"What is your favorite color?\",\n",
    "                \"questionItem\": {\n",
    "                    \"question\": {\n",
    "                        \"required\": True,\n",
    "                        \"choiceQuestion\": {\n",
    "                            \"type\": \"RADIO\",\n",
    "                            \"options\": [\n",
    "                                {\"value\": \"Red\"},\n",
    "                                {\"value\": \"Blue\"},\n",
    "                                {\"value\": \"Green\"}\n",
    "                            ]\n",
    "                        }\n",
    "                    }\n",
    "                }\n",
    "            },\n",
    "            \"location\": {\n",
    "                \"index\": 1\n",
    "            }\n",
    "        }\n",
    "    }\n",
    "]\n",
    "\n",
    "batch_update_request = {\n",
    "    \"requests\": form_questions\n",
    "}\n",
    "\n",
    "# Execute the batch update\n",
    "batch_update_response  = form_service.forms().batchUpdate(formId=created_form['formId'], body=batch_update_request).execute()\n",
    "print('batch_update_reponse', batch_update_response)\n",
    "\n",
    "# Print the form ID and URL\n",
    "print(f\"Form ID: {created_form['formId']}\")\n",
    "print(f\"Form URL: https://docs.google.com/forms/d/{created_form['formId']}/edit\")\n"
   ]
  },
  {
   "cell_type": "markdown",
   "metadata": {},
   "source": [
    "# MANUAL \n",
    "Add some reponses to the form using web browser and another email"
   ]
  },
  {
   "cell_type": "code",
   "execution_count": 6,
   "metadata": {},
   "outputs": [
    {
     "name": "stdout",
     "output_type": "stream",
     "text": [
      "Responses:\n",
      "{'responses': [{'answers': {'2604b423': {'questionId': '2604b423',\n",
      "                                         'textAnswers': {'answers': [{'value': 'Red'}]}},\n",
      "                            '53745c7a': {'questionId': '53745c7a',\n",
      "                                         'textAnswers': {'answers': [{'value': 'asdf '}]}}},\n",
      "                'createTime': '2024-09-26T23:09:10.739Z',\n",
      "                'lastSubmittedTime': '2024-09-26T23:09:10.739551Z',\n",
      "                'responseId': 'ACYDBNhRz83Z2b8Kw2Oz1pfcpgzZk6gWYvLd3IwPswiMSSV6K4GTXRIMYPRYRu7a9ggVub4'}]}\n"
     ]
    }
   ],
   "source": [
    "# Viewing reposes - Working \n",
    "import pprint\n",
    "# Define the form ID\n",
    "form_id = created_form['formId']\n",
    "\n",
    "# Retrieve form responses\n",
    "responses = form_service.forms().responses().list(formId=form_id).execute()\n",
    "\n",
    "print(\"Responses:\")\n",
    "pprint.pprint(responses)"
   ]
  },
  {
   "cell_type": "code",
   "execution_count": 7,
   "metadata": {},
   "outputs": [],
   "source": [
    "# Create a new Google Sheet\n",
    "spreadsheet = {\n",
    "    \"properties\": {\n",
    "        \"title\": \"Form Responses\"\n",
    "    }\n",
    "}\n",
    "created_sheet = sheets_service.spreadsheets().create(body=spreadsheet).execute()\n"
   ]
  },
  {
   "cell_type": "code",
   "execution_count": 8,
   "metadata": {},
   "outputs": [
    {
     "ename": "HttpError",
     "evalue": "<HttpError 400 when requesting https://forms.googleapis.com/v1/forms/1SWOV9lAlfN9vPwC03v25vMNgm6t22_B7iZ6tBUR-0ZQ:batchUpdate?alt=json returned \"Invalid JSON payload received. Unknown name \"responseDestination\" at 'requests[0].update_settings.settings': Cannot find field.\". Details: \"[{'@type': 'type.googleapis.com/google.rpc.BadRequest', 'fieldViolations': [{'field': 'requests[0].update_settings.settings', 'description': 'Invalid JSON payload received. Unknown name \"responseDestination\" at \\'requests[0].update_settings.settings\\': Cannot find field.'}]}]\">",
     "output_type": "error",
     "traceback": [
      "\u001b[0;31m---------------------------------------------------------------------------\u001b[0m",
      "\u001b[0;31mHttpError\u001b[0m                                 Traceback (most recent call last)",
      "Cell \u001b[0;32mIn[8], line 17\u001b[0m\n\u001b[1;32m      1\u001b[0m \u001b[38;5;66;03m# ! Link the form to the Google Sheet ! This is not working \u001b[39;00m\n\u001b[1;32m      2\u001b[0m form_update \u001b[38;5;241m=\u001b[39m {\n\u001b[1;32m      3\u001b[0m     \u001b[38;5;124m\"\u001b[39m\u001b[38;5;124mrequests\u001b[39m\u001b[38;5;124m\"\u001b[39m: [\n\u001b[1;32m      4\u001b[0m         {\n\u001b[0;32m   (...)\u001b[0m\n\u001b[1;32m     15\u001b[0m     ]\n\u001b[1;32m     16\u001b[0m }\n\u001b[0;32m---> 17\u001b[0m \u001b[43mform_service\u001b[49m\u001b[38;5;241;43m.\u001b[39;49m\u001b[43mforms\u001b[49m\u001b[43m(\u001b[49m\u001b[43m)\u001b[49m\u001b[38;5;241;43m.\u001b[39;49m\u001b[43mbatchUpdate\u001b[49m\u001b[43m(\u001b[49m\u001b[43mformId\u001b[49m\u001b[38;5;241;43m=\u001b[39;49m\u001b[43mcreated_form\u001b[49m\u001b[43m[\u001b[49m\u001b[38;5;124;43m'\u001b[39;49m\u001b[38;5;124;43mformId\u001b[39;49m\u001b[38;5;124;43m'\u001b[39;49m\u001b[43m]\u001b[49m\u001b[43m,\u001b[49m\u001b[43m \u001b[49m\u001b[43mbody\u001b[49m\u001b[38;5;241;43m=\u001b[39;49m\u001b[43mform_update\u001b[49m\u001b[43m)\u001b[49m\u001b[38;5;241;43m.\u001b[39;49m\u001b[43mexecute\u001b[49m\u001b[43m(\u001b[49m\u001b[43m)\u001b[49m\n\u001b[1;32m     19\u001b[0m \u001b[38;5;66;03m# Print the form ID, form URL, and sheet URL\u001b[39;00m\n\u001b[1;32m     20\u001b[0m \u001b[38;5;28mprint\u001b[39m(\u001b[38;5;124mf\u001b[39m\u001b[38;5;124m\"\u001b[39m\u001b[38;5;124mForm ID: \u001b[39m\u001b[38;5;132;01m{\u001b[39;00mcreated_form[\u001b[38;5;124m'\u001b[39m\u001b[38;5;124mformId\u001b[39m\u001b[38;5;124m'\u001b[39m]\u001b[38;5;132;01m}\u001b[39;00m\u001b[38;5;124m\"\u001b[39m)\n",
      "File \u001b[0;32m/opt/homebrew/Caskroom/miniconda/base/envs/pyqt-env/lib/python3.11/site-packages/googleapiclient/_helpers.py:130\u001b[0m, in \u001b[0;36mpositional.<locals>.positional_decorator.<locals>.positional_wrapper\u001b[0;34m(*args, **kwargs)\u001b[0m\n\u001b[1;32m    128\u001b[0m     \u001b[38;5;28;01melif\u001b[39;00m positional_parameters_enforcement \u001b[38;5;241m==\u001b[39m POSITIONAL_WARNING:\n\u001b[1;32m    129\u001b[0m         logger\u001b[38;5;241m.\u001b[39mwarning(message)\n\u001b[0;32m--> 130\u001b[0m \u001b[38;5;28;01mreturn\u001b[39;00m \u001b[43mwrapped\u001b[49m\u001b[43m(\u001b[49m\u001b[38;5;241;43m*\u001b[39;49m\u001b[43margs\u001b[49m\u001b[43m,\u001b[49m\u001b[43m \u001b[49m\u001b[38;5;241;43m*\u001b[39;49m\u001b[38;5;241;43m*\u001b[39;49m\u001b[43mkwargs\u001b[49m\u001b[43m)\u001b[49m\n",
      "File \u001b[0;32m/opt/homebrew/Caskroom/miniconda/base/envs/pyqt-env/lib/python3.11/site-packages/googleapiclient/http.py:938\u001b[0m, in \u001b[0;36mHttpRequest.execute\u001b[0;34m(self, http, num_retries)\u001b[0m\n\u001b[1;32m    936\u001b[0m     callback(resp)\n\u001b[1;32m    937\u001b[0m \u001b[38;5;28;01mif\u001b[39;00m resp\u001b[38;5;241m.\u001b[39mstatus \u001b[38;5;241m>\u001b[39m\u001b[38;5;241m=\u001b[39m \u001b[38;5;241m300\u001b[39m:\n\u001b[0;32m--> 938\u001b[0m     \u001b[38;5;28;01mraise\u001b[39;00m HttpError(resp, content, uri\u001b[38;5;241m=\u001b[39m\u001b[38;5;28mself\u001b[39m\u001b[38;5;241m.\u001b[39muri)\n\u001b[1;32m    939\u001b[0m \u001b[38;5;28;01mreturn\u001b[39;00m \u001b[38;5;28mself\u001b[39m\u001b[38;5;241m.\u001b[39mpostproc(resp, content)\n",
      "\u001b[0;31mHttpError\u001b[0m: <HttpError 400 when requesting https://forms.googleapis.com/v1/forms/1SWOV9lAlfN9vPwC03v25vMNgm6t22_B7iZ6tBUR-0ZQ:batchUpdate?alt=json returned \"Invalid JSON payload received. Unknown name \"responseDestination\" at 'requests[0].update_settings.settings': Cannot find field.\". Details: \"[{'@type': 'type.googleapis.com/google.rpc.BadRequest', 'fieldViolations': [{'field': 'requests[0].update_settings.settings', 'description': 'Invalid JSON payload received. Unknown name \"responseDestination\" at \\'requests[0].update_settings.settings\\': Cannot find field.'}]}]\">"
     ]
    }
   ],
   "source": [
    "\n",
    "# ! Link the form to the Google Sheet ! This is not working \n",
    "form_update = {\n",
    "    \"requests\": [\n",
    "        {\n",
    "            \"updateSettings\": {\n",
    "                \"settings\": {\n",
    "                    \"responseDestination\": {\n",
    "                        \"destinationType\": \"SPREADSHEET\",\n",
    "                        \"spreadsheetId\": created_sheet['spreadsheetId']\n",
    "                    }\n",
    "                },\n",
    "                \"updateMask\": \"responseDestination\"\n",
    "            }\n",
    "        }\n",
    "    ]\n",
    "}\n",
    "form_service.forms().batchUpdate(formId=created_form['formId'], body=form_update).execute()\n",
    "\n",
    "# Print the form ID, form URL, and sheet URL\n",
    "print(f\"Form ID: {created_form['formId']}\")\n",
    "print(f\"Form URL: https://docs.google.com/forms/d/{created_form['formId']}/edit\")\n",
    "print(f\"Sheet URL: https://docs.google.com/spreadsheets/d/{created_sheet['spreadsheetId']}/edit\")"
   ]
  },
  {
   "cell_type": "markdown",
   "metadata": {},
   "source": [
    "\n",
    "\n",
    "\n",
    "# Microsoft Forms "
   ]
  },
  {
   "cell_type": "code",
   "execution_count": 1,
   "metadata": {},
   "outputs": [
    {
     "name": "stdout",
     "output_type": "stream",
     "text": [
      "Access Token: eyJ0eXAiOiJKV1QiLCJub25jZSI6ImlpLURGd3lkSm9ZczVEQWp4Y2FZR3NKYnRfNGxra2xReHJXSUJGUWtqb2MiLCJhbGciOiJSUzI1NiIsIng1dCI6Ikg5bmo1QU9Tc3dNcGhnMVNGeDdqYVYtbEI5dyIsImtpZCI6Ikg5bmo1QU9Tc3dNcGhnMVNGeDdqYVYtbEI5dyJ9.eyJhdWQiOiJodHRwczovL2dyYXBoLm1pY3Jvc29mdC5jb20iLCJpc3MiOiJodHRwczovL3N0cy53aW5kb3dzLm5ldC8zM2FhZDg3Yy0xNzQyLTQwMjQtOWVlZS04ZTg5Yjc4ZmQ5OGQvIiwiaWF0IjoxNzI3Mjk5MzM2LCJuYmYiOjE3MjcyOTkzMzYsImV4cCI6MTcyNzMwMzIzNiwiYWlvIjoiRTJkZ1lNaVBGMXpFcm1HMEtHbG42cHIzVys0eUFBQT0iLCJhcHBfZGlzcGxheW5hbWUiOiJjYW52YXMgYXV0b21hdGlubyIsImFwcGlkIjoiMjRmYjdkMWQtMTk5Zi00N2UyLWE4ODItYzZiZGVmODg2Nzk1IiwiYXBwaWRhY3IiOiIxIiwiaWRwIjoiaHR0cHM6Ly9zdHMud2luZG93cy5uZXQvMzNhYWQ4N2MtMTc0Mi00MDI0LTllZWUtOGU4OWI3OGZkOThkLyIsImlkdHlwIjoiYXBwIiwib2lkIjoiMDM3ZTEwMzUtNTI4NS00ZWFlLWJkOGItYWNiNzA5NzZlMmE3IiwicmgiOiIwLkFXOEJmTmlxTTBJWEpFQ2U3bzZKdDRfWmpRTUFBQUFBQUFBQXdBQUFBQUFBQUFCdkFRQS4iLCJzdWIiOiIwMzdlMTAzNS01Mjg1LTRlYWUtYmQ4Yi1hY2I3MDk3NmUyYTciLCJ0ZW5hbnRfcmVnaW9uX3Njb3BlIjoiTkEiLCJ0aWQiOiIzM2FhZDg3Yy0xNzQyLTQwMjQtOWVlZS04ZTg5Yjc4ZmQ5OGQiLCJ1dGkiOiJBam03LUJQSGkwT1lsek80UzBJckFRIiwidmVyIjoiMS4wIiwid2lkcyI6WyIwOTk3YTFkMC0wZDFkLTRhY2ItYjQwOC1kNWNhNzMxMjFlOTAiXSwieG1zX2lkcmVsIjoiNyAzMCIsInhtc190Y2R0IjoxNzI3MTQxODU1fQ.ErZk9H1yiw1LLnLY8KinSyXxXnZ-zZw4RBrZj5dZjq9O3hl5aolZQUjm0mI0m98zCUxr64J6pIytDTO9GhO9KB07sKN4K8ItAADoitpT-L4c1mo5ah88zFrf5Jtf4Vj-GCn8ecWBeUyJuUPtKRQlk0Ki_6VuRyvAkGRAimwdq_sIbV-toCJbMhsds53xyZkg7GxsRT49hmZmkZCK5txkuBZM9p17_0bd0UxyZRYND5MFIYiiajNyhyhVYzcMRoKSok8EubBiVHJDh9hL_6J9yWBqnC54c9FcTLZQi6GoSI318IuT_9xXbgqXTRkhqvQaBt002AHGlAIZ5FdTxRixjA\n"
     ]
    }
   ],
   "source": [
    "# Getting access token for Microsoft Graph API - working\n",
    "# App, access_token\n",
    "# !pip install msal\n",
    "import msal\n",
    "import os \n",
    "# Define the necessary parameters\n",
    "client_secret = os.getenv(\"CLIENT_SECRET\")\n",
    "secret_id = os.getenv(\"SECRET_ID\")\n",
    "app_id = os.getenv(\"APP_ID\")\n",
    "tenant_id = os.getenv(\"TENANT_ID\")\n",
    "authority = f\"https://login.microsoftonline.com/{tenant_id}\"\n",
    "scopes = [\"https://graph.microsoft.com/.default\"]\n",
    "\n",
    "# Create a confidential client application\n",
    "app = msal.ConfidentialClientApplication(\n",
    "    client_id=app_id,\n",
    "    client_credential=client_secret,\n",
    "    authority=authority\n",
    ")\n",
    "\n",
    "# Acquire a token\n",
    "result = app.acquire_token_for_client(scopes=scopes)\n",
    "\n",
    "# Handle the response\n",
    "if \"access_token\" in result:\n",
    "    access_token = result[\"access_token\"]\n",
    "    print(\"Access Token:\", access_token)\n",
    "else:\n",
    "    print(\"Failed to get access token:\", result.get(\"error\"), result.get(\"error_description\"))"
   ]
  },
  {
   "cell_type": "code",
   "execution_count": null,
   "metadata": {},
   "outputs": [],
   "source": [
    "# trying to read the files in the onedrive\n",
    "import requests \n",
    "\n",
    "# Step 2: Use the access token to access OneDrive\n",
    "headers = {\n",
    "    'Authorization': 'Bearer ' + access_token,\n",
    "    'Content-Type': 'application/json'\n",
    "}\n",
    "\n",
    "# Example: List files in the root of your OneDrive\n",
    "graph_api_endpoint = 'https://graph.microsoft.com/v1.0/me/drive/root/children'\n",
    "response = requests.get(graph_api_endpoint, headers=headers)\n",
    "\n",
    "if response.status_code == 200:\n",
    "    files = response.json().get('value', [])\n",
    "    for file in files:\n",
    "        print(f\"Name: {file['name']}, Type: {file['file']['mimeType'] if 'file' in file else 'folder'}\")\n",
    "else:\n",
    "    print(f\"Error: {response.status_code}, {response.text}\")\n"
   ]
  },
  {
   "cell_type": "code",
   "execution_count": 2,
   "metadata": {},
   "outputs": [
    {
     "name": "stdout",
     "output_type": "stream",
     "text": [
      "Access Token: eyJ0eXAiOiJKV1QiLCJub25jZSI6ImFvSzV3NjFCVTJhaHhld2otczhwZk5vTzhRZ3lhY1VoNUp2RmVLcGRPbmMiLCJhbGciOiJSUzI1NiIsIng1dCI6Ikg5bmo1QU9Tc3dNcGhnMVNGeDdqYVYtbEI5dyIsImtpZCI6Ikg5bmo1QU9Tc3dNcGhnMVNGeDdqYVYtbEI5dyJ9.eyJhdWQiOiJodHRwczovL2dyYXBoLm1pY3Jvc29mdC5jb20iLCJpc3MiOiJodHRwczovL3N0cy53aW5kb3dzLm5ldC8zM2FhZDg3Yy0xNzQyLTQwMjQtOWVlZS04ZTg5Yjc4ZmQ5OGQvIiwiaWF0IjoxNzI3MzA1MzUzLCJuYmYiOjE3MjczMDUzNTMsImV4cCI6MTcyNzMwOTI1MywiYWlvIjoiRTJkZ1lMQlBubXJwZlcwbDY5WjduWTRyTm9xcUFRQT0iLCJhcHBfZGlzcGxheW5hbWUiOiJjYW52YXMgYXV0b21hdGlubyIsImFwcGlkIjoiMjRmYjdkMWQtMTk5Zi00N2UyLWE4ODItYzZiZGVmODg2Nzk1IiwiYXBwaWRhY3IiOiIxIiwiaWRwIjoiaHR0cHM6Ly9zdHMud2luZG93cy5uZXQvMzNhYWQ4N2MtMTc0Mi00MDI0LTllZWUtOGU4OWI3OGZkOThkLyIsImlkdHlwIjoiYXBwIiwib2lkIjoiMDM3ZTEwMzUtNTI4NS00ZWFlLWJkOGItYWNiNzA5NzZlMmE3IiwicmgiOiIwLkFXOEJmTmlxTTBJWEpFQ2U3bzZKdDRfWmpRTUFBQUFBQUFBQXdBQUFBQUFBQUFCdkFRQS4iLCJzdWIiOiIwMzdlMTAzNS01Mjg1LTRlYWUtYmQ4Yi1hY2I3MDk3NmUyYTciLCJ0ZW5hbnRfcmVnaW9uX3Njb3BlIjoiTkEiLCJ0aWQiOiIzM2FhZDg3Yy0xNzQyLTQwMjQtOWVlZS04ZTg5Yjc4ZmQ5OGQiLCJ1dGkiOiJ1S2NmeXJORkdFaXNfdllWdktMZkFBIiwidmVyIjoiMS4wIiwid2lkcyI6WyIwOTk3YTFkMC0wZDFkLTRhY2ItYjQwOC1kNWNhNzMxMjFlOTAiXSwieG1zX2lkcmVsIjoiMjAgNyIsInhtc190Y2R0IjoxNzI3MTQxODU1fQ.PG3u3PvJgs9M3qmuv9HwoeS9LYfpD9w5O3CLwOEjexMzpHz9qKEuNE8IPNu8FlyibJFmTrXg_4b5QIEdOVkuyy3hlYI_-vLob1C9952B7ro2Fy2o94IyOi-PWOH7Ev9tyryhcTOE4zKhFGK8TQXRORTrTsztiFHvpqmo7gQEaKuX2O6qRlDTzorwZnMymwz_napXKfvrbpD1eFs7a0FK0jwzZEmsGkF45deyt_bx_Fkj-Bet3SqGFa9rT8CDcva81KVoDnt4EgD4ov2MiDkMFc75qxodrp1JIpc3sit0xU-V6wZIzZAFf3ea4GP9L5Q7MMS7zDUX2cPl2buxA46ntA\n",
      "Token claims: {'aud': 'https://graph.microsoft.com', 'iss': 'https://sts.windows.net/33aad87c-1742-4024-9eee-8e89b78fd98d/', 'iat': 1727305353, 'nbf': 1727305353, 'exp': 1727309253, 'aio': 'E2dgYLBPnmrpfW0l69Z7nY4rNoqqAQA=', 'app_displayname': 'canvas automatino', 'appid': '24fb7d1d-199f-47e2-a882-c6bdef886795', 'appidacr': '1', 'idp': 'https://sts.windows.net/33aad87c-1742-4024-9eee-8e89b78fd98d/', 'idtyp': 'app', 'oid': '037e1035-5285-4eae-bd8b-acb70976e2a7', 'rh': '0.AW8BfNiqM0IXJECe7o6Jt4_ZjQMAAAAAAAAAwAAAAAAAAABvAQA.', 'sub': '037e1035-5285-4eae-bd8b-acb70976e2a7', 'tenant_region_scope': 'NA', 'tid': '33aad87c-1742-4024-9eee-8e89b78fd98d', 'uti': 'uKcfyrNFGEis_vYVvKLfAA', 'ver': '1.0', 'wids': ['0997a1d0-0d1d-4acb-b408-d5ca73121e90'], 'xms_idrel': '20 7', 'xms_tcdt': 1727141855}\n",
      "Token scopes: []\n",
      "Required scopes present: False\n",
      "Form ID: DQSIkWdsW0yxEjajBLZtrQAAAAAAAAAAAAMAANMPSuxUQTJTVDdFUE5JTEk4OEZCRDRBTDlISEMzTi4u\n",
      "Response Status Code: 403\n",
      "Response Text: {\"error\":{\"code\":\"Authorization_RequestDenied\",\"message\":\"Insufficient privileges to complete the operation.\",\"innerError\":{\"date\":\"2024-09-25T23:07:33\",\"request-id\":\"a97a5aa7-36ab-49d1-8945-49406ec47260\",\"client-request-id\":\"a97a5aa7-36ab-49d1-8945-49406ec47260\"}}}\n",
      "Error: 403, {\"error\":{\"code\":\"Authorization_RequestDenied\",\"message\":\"Insufficient privileges to complete the operation.\",\"innerError\":{\"date\":\"2024-09-25T23:07:33\",\"request-id\":\"a97a5aa7-36ab-49d1-8945-49406ec47260\",\"client-request-id\":\"a97a5aa7-36ab-49d1-8945-49406ec47260\"}}}\n"
     ]
    },
    {
     "ename": "Exception",
     "evalue": "Failed to get user details",
     "output_type": "error",
     "traceback": [
      "\u001b[0;31m---------------------------------------------------------------------------\u001b[0m",
      "\u001b[0;31mException\u001b[0m                                 Traceback (most recent call last)",
      "Cell \u001b[0;32mIn[2], line 70\u001b[0m\n\u001b[1;32m     68\u001b[0m \u001b[38;5;28;01mif\u001b[39;00m response\u001b[38;5;241m.\u001b[39mstatus_code \u001b[38;5;241m!=\u001b[39m \u001b[38;5;241m200\u001b[39m:\n\u001b[1;32m     69\u001b[0m     \u001b[38;5;28mprint\u001b[39m(\u001b[38;5;124mf\u001b[39m\u001b[38;5;124m\"\u001b[39m\u001b[38;5;124mError: \u001b[39m\u001b[38;5;132;01m{\u001b[39;00mresponse\u001b[38;5;241m.\u001b[39mstatus_code\u001b[38;5;132;01m}\u001b[39;00m\u001b[38;5;124m, \u001b[39m\u001b[38;5;132;01m{\u001b[39;00mresponse\u001b[38;5;241m.\u001b[39mtext\u001b[38;5;132;01m}\u001b[39;00m\u001b[38;5;124m\"\u001b[39m)\n\u001b[0;32m---> 70\u001b[0m     \u001b[38;5;28;01mraise\u001b[39;00m \u001b[38;5;167;01mException\u001b[39;00m(\u001b[38;5;124m\"\u001b[39m\u001b[38;5;124mFailed to get user details\u001b[39m\u001b[38;5;124m\"\u001b[39m)\n\u001b[1;32m     72\u001b[0m user_details \u001b[38;5;241m=\u001b[39m response\u001b[38;5;241m.\u001b[39mjson()\n\u001b[1;32m     73\u001b[0m user_id \u001b[38;5;241m=\u001b[39m user_details[\u001b[38;5;124m'\u001b[39m\u001b[38;5;124mvalue\u001b[39m\u001b[38;5;124m'\u001b[39m][\u001b[38;5;241m0\u001b[39m][\u001b[38;5;124m'\u001b[39m\u001b[38;5;124mid\u001b[39m\u001b[38;5;124m'\u001b[39m]  \u001b[38;5;66;03m# Assuming you want the first user\u001b[39;00m\n",
      "\u001b[0;31mException\u001b[0m: Failed to get user details"
     ]
    }
   ],
   "source": [
    "import requests\n",
    "import msal\n",
    "import os \n",
    "import jwt\n",
    "\n",
    "def decode_jwt(token):\n",
    "    return jwt.decode(token, options={\"verify_signature\": False})\n",
    "\n",
    "\n",
    "\n",
    "# Define the necessary parameters\n",
    "client_secret = os.getenv(\"CLIENT_SECRET\")\n",
    "secret_id = os.getenv(\"SECRET_ID\")\n",
    "app_id = os.getenv(\"APP_ID\")\n",
    "tenant_id = os.getenv(\"TENANT_ID\")\n",
    "authority = f\"https://login.microsoftonline.com/{tenant_id}\"\n",
    "scopes = [    \n",
    "        \"https://graph.microsoft.com/.default\",\n",
    "        # \"https://forms.office.com//Forms.Read.All\",\n",
    "        # \"https://forms.cloud.microsoft//Responses.Read.All\",\n",
    "        # \"https://graph.microsoft.com/User.Read\", \n",
    "          \n",
    "          ]\n",
    "# Create a confidential client application\n",
    "app = msal.ConfidentialClientApplication(\n",
    "    client_id=app_id,\n",
    "    client_credential=client_secret,\n",
    "    authority=authority\n",
    ")\n",
    "\n",
    "# Acquire a token\n",
    "# app.remove_tokens_for_client()\n",
    "result = app.acquire_token_for_client(scopes=scopes)\n",
    "\n",
    "# Handle the response\n",
    "if 'access_token' not in result:\n",
    "    print(\"Failed to get access token:\", result.get(\"error\"), result.get(\"error_description\"))\n",
    "    raise Exception(\"Failed to get access token\")\n",
    "\n",
    "access_token = result[\"access_token\"]\n",
    "print(\"Access Token:\", access_token)\n",
    "decoded_token = decode_jwt(access_token)\n",
    "print(\"Token claims:\", decoded_token)\n",
    "token_scopes = decoded_token.get('scp', '').split()\n",
    "print(\"Token scopes:\", token_scopes)\n",
    "print(\"Required scopes present:\", all(scope in token_scopes for scope in scopes))\n",
    "# print(\"Graph API endpoint:\", graph_api_endpoint)\n",
    "\n",
    "\n",
    "\n",
    "form_url = \"https://forms.office.com/Pages/ResponsePage.aspx?id=DQSIkWdsW0yxEjajBLZtrQAAAAAAAAAAAAMAANMPSuxUQTJTVDdFUE5JTEk4OEZCRDRBTDlISEMzTi4u\"\n",
    "### Getting the form id based on the form url\n",
    "from urllib.parse import urlparse, parse_qs\n",
    "parsed_url = urlparse(form_url)\n",
    "query_params = parse_qs(parsed_url.query)\n",
    "form_id = query_params['id'][0]\n",
    "print(f\"Form ID: {form_id}\")\n",
    "\n",
    "\n",
    "# Use the /users endpoint to get user details\n",
    "graph_api_endpoint = \"https://graph.microsoft.com/v1.0/users\"\n",
    "headers = {'Authorization': 'Bearer ' + access_token}\n",
    "response = requests.get(graph_api_endpoint, headers=headers)\n",
    "# Debugging information\n",
    "print(f\"Response Status Code: {response.status_code}\")\n",
    "print(f\"Response Text: {response.text}\")\n",
    "\n",
    "if response.status_code != 200:\n",
    "    print(f\"Error: {response.status_code}, {response.text}\")\n",
    "    raise Exception(\"Failed to get user details\")\n",
    "\n",
    "user_details = response.json()\n",
    "user_id = user_details['value'][0]['id']  # Assuming you want the first user\n",
    "print(f\"User ID: {user_id}\")\n",
    "\n",
    "\n",
    "forms_api_endpoint = f\"https://forms.office.com/formapi/api/{tenant_id}/users/{user_id}/light/forms('{form_id}')?$select=id,title,questions&$expand=questions($expand=choices)\"\n",
    "headers = {'Authorization': 'Bearer ' + access_token}\n",
    "response = requests.get(forms_api_endpoint, headers=headers)\n",
    "\n",
    "\n",
    "if response.status_code == 200:\n",
    "    form_details = response.json()\n",
    "    print(f\"Form ID: {form_details['id']}\")\n",
    "    print(f\"Title: {form_details['title']}\")\n",
    "    for question in form_details['questions']:\n",
    "        print(f\"Question: {question['title']}\")\n",
    "        if 'choices' in question:\n",
    "            for choice in question['choices']:\n",
    "                print(f\" - Choice: {choice['text']}\")\n",
    "else:\n",
    "    print(f\"Error: {response.status_code}, {response.text}\")\n"
   ]
  },
  {
   "cell_type": "code",
   "execution_count": null,
   "metadata": {},
   "outputs": [],
   "source": [
    "# https://mofumofupower.hatenablog.com/entry/formsapi"
   ]
  },
  {
   "cell_type": "code",
   "execution_count": 14,
   "metadata": {},
   "outputs": [
    {
     "name": "stdout",
     "output_type": "stream",
     "text": [
      "Please go to this URL and authorize the application: https://login.microsoftonline.com/33aad87c-1742-4024-9eee-8e89b78fd98d/oauth2/v2.0/authorize?client_id=24fb7d1d-199f-47e2-a882-c6bdef886795&response_type=code&scope=https%3A%2F%2Fgraph.microsoft.com%2F.default+offline_access+openid+profile\n",
      "invalid_request\n",
      "AADSTS900144: The request body must contain the following parameter: 'code'. Trace ID: 12e2b297-8c33-4532-9c4f-6e50e585f200 Correlation ID: 4d2deb9a-a942-4f25-a4b9-d05db719934c Timestamp: 2024-09-25 21:22:48Z\n",
      "4d2deb9a-a942-4f25-a4b9-d05db719934c\n"
     ]
    }
   ],
   "source": [
    "import msal\n",
    "import requests\n",
    "import webbrowser\n",
    "from urllib.parse import urlparse, parse_qs\n",
    "\n",
    "# Your app registration details\n",
    "client_secret = os.getenv(\"CLIENT_SECRET\")\n",
    "secret_id = os.getenv(\"SECRET_ID\")\n",
    "app_id = os.getenv(\"APP_ID\")\n",
    "tenant_id = os.getenv(\"TENANT_ID\")\n",
    "\n",
    "redirect_uri = \"http://localhost:8000\"\n",
    "\n",
    "# MSAL configuration\n",
    "authority = f\"https://login.microsoftonline.com/{tenant_id}\"\n",
    "scopes = [\"User.Read\", \"Forms.Read.All\", \"Forms.ReadWrite.All\"]\n",
    "\n",
    "# Create the MSAL app\n",
    "app = msal.PublicClientApplication(app_id, authority=authority, redirect_uri=redirect_uri)\n",
    "\n",
    "# Get the authorization URL\n",
    "auth_url = app.get_authorization_request_url(scopes)\n",
    "print(f\"Please go to this URL and authorize the application: {auth_url}\")\n",
    "\n",
    "# Open the authorization URL in the web browser\n",
    "webbrowser.open(auth_url)\n",
    "\n",
    "# After the user logs in and authorizes the application, they will be redirected to the redirect URI with a code\n",
    "# You need to capture the code from the redirect URI\n",
    "redirect_response = input(\"Paste the full redirect URL here: \")\n",
    "parsed_url = urlparse(redirect_response)\n",
    "code = parse_qs(parsed_url.query).get('code', [None])[0]\n",
    "\n",
    "# Acquire token using the authorization code\n",
    "result = app.acquire_token_by_authorization_code(code, scopes=scopes)\n",
    "\n",
    "if \"access_token\" in result:\n",
    "    # Get user ID\n",
    "    graph_api_endpoint = \"https://graph.microsoft.com/v1.0/me\"\n",
    "    headers = {'Authorization': 'Bearer ' + result['access_token']}\n",
    "    response = requests.get(graph_api_endpoint, headers=headers)\n",
    "\n",
    "    if response.status_code == 200:\n",
    "        user_details = response.json()\n",
    "        user_id = user_details['id']\n",
    "        print(f\"User ID: {user_id}\")\n",
    "\n",
    "        # Use the access token to call Microsoft Forms API\n",
    "        form_url = \"https://forms.office.com/Pages/ResponsePage.aspx?id=DQSIkWdsW0yxEjajBLZtrQAAAAAAAAAAAAMAANMPSuxUQTJTVDdFUE5JTEk4OEZCRDRBTDlISEMzTi4u\"\n",
    "        # Getting the form id based on the form url\n",
    "        parsed_url = urlparse(form_url)\n",
    "        query_params = parse_qs(parsed_url.query)\n",
    "        form_id = query_params.get('id', [None])[0]\n",
    "\n",
    "        print(f\"Form ID: {form_id}\")\n",
    "\n",
    "        forms_api_endpoint = f\"https://forms.office.com/formapi/api/{tenant_id}/users/{user_id}/light/forms('{form_id}')?$select=id,title,questions&$expand=questions($expand=choices)\"\n",
    "        headers = {'Authorization': 'Bearer ' + result['access_token']}\n",
    "        response = requests.get(forms_api_endpoint, headers=headers)\n",
    "\n",
    "        if response.status_code == 200:\n",
    "            form_details = response.json()\n",
    "            print(f\"Form ID: {form_details['id']}\")\n",
    "            print(f\"Title: {form_details['title']}\")\n",
    "            for question in form_details['questions']:\n",
    "                print(f\"Question: {question['title']}\")\n",
    "                if 'choices' in question:\n",
    "                    for choice in question['choices']:\n",
    "                        print(f\" - Choice: {choice['text']}\")\n",
    "        else:\n",
    "            print(f\"Error: {response.status_code}, {response.text}\")\n",
    "    else:\n",
    "        print(f\"Error: {response.status_code}, {response.text}\")\n",
    "else:\n",
    "    print(result.get(\"error\"))\n",
    "    print(result.get(\"error_description\"))\n",
    "    print(result.get(\"correlation_id\"))"
   ]
  },
  {
   "cell_type": "code",
   "execution_count": 9,
   "metadata": {},
   "outputs": [
    {
     "name": "stdout",
     "output_type": "stream",
     "text": [
      "Open the following URL in a browser to authorize the application:\n",
      "https://login.microsoftonline.com/33aad87c-1742-4024-9eee-8e89b78fd98d/oauth2/v2.0/authorize?client_id=24fb7d1d-199f-47e2-a882-c6bdef886795&response_type=code&redirect_uri=http%3A%2F%2Flocalhost&scope=User.Read+offline_access+openid+profile\n"
     ]
    },
    {
     "data": {
      "text/plain": [
       "True"
      ]
     },
     "execution_count": 9,
     "metadata": {},
     "output_type": "execute_result"
    }
   ],
   "source": [
    "import webbrowser\n",
    "SCOPES = ['User.Read']\n",
    "REDIRECT_URI = 'http://localhost'\n",
    "\n",
    "authority = f'https://login.microsoftonline.com/{tenant_id}'\n",
    "\n",
    "client = msal.PublicClientApplication(client_id=app_id, authority=authority)\n",
    "\n",
    "authorization_url = client.get_authorization_request_url(SCOPES, redirect_uri=REDIRECT_URI)\n",
    "print(\"Open the following URL in a browser to authorize the application:\")\n",
    "print(authorization_url)\n",
    "webbrowser.open(authorization_url)\n"
   ]
  },
  {
   "cell_type": "code",
   "execution_count": 10,
   "metadata": {},
   "outputs": [
    {
     "name": "stdout",
     "output_type": "stream",
     "text": [
      "0.AW8BfNiqM0IXJECe7o6Jt4_ZjR19-ySfGeJHqILGve-IZ5VvAZA.AgABBAIAAAApTwJmzXqdR4BN2miheQMYAwDs_wUA9P8RpIXxXHWIIXmnD0_jy_u6aNPDmGVZMyeM5xWmVAN92V0dZ36jBkOzi8G67tsRKczaLpx_SpM5rQvLEV2te7BWwDGVLCzWDhsxYR21svmDDqYIhRbOyRqjQ3MFyCWqTRZ7dXpRlxXD8JbBOUWgXh9Qd20F7IB4fxURjUjiW-HH1ZmXwq3r3pbTATml7KyHVnyGawaxxclSToKt-z_ordNaaqhcxzU1dpD9uYuzoZ00GzRBTC9tB002LRiFYxzzj3SU4cNhCvLzInR_Bl45G-4FVtIad6EYAsNE1FJuRFOwdtwOScN03M4DGN6WiCLkjXBLskiZj2HhvBgnyeG5Bm4GCvZLZtgA3yVRov0ATShBTEaLz_EJ3jo_FLw6onX3kb5KE0hyFxP4ZuFBLH8P7JC53a6unVx5bk1B_G2w5nLoeGKbafH5vrYcndIbjuzAAj2nQG4cIMOgKV3ihiTHmqx-AIyWJRRa61ORV604850wQ3DIoHk5v_mBkKG2vXdtwzvO7K-6FpZcf7gtdhJXmj5kOu3rVgHNPY7sEBbUHft4OwNOzZPlFIRc-I2uzxR-EiaXp17Qf9BdqviudnT5ZqbL2JDWDhgg0aBAcJCPr3jn5nsAkTKDfzF2w8PFP0qCIDHZlOsRR8nBfjAxwmelRXP5GGHKEMSOo-7NFhH_sA6elWIIetqrYAWq_lUp3jVPcOV0vxopQftF8fcQ_BsN7q5x8YfQ3I2CzYReZGeDv45apcWcR0t5449lpz8Ge27APT-Sxro9tCDpnpGymsvlUqF2UHkS4YZEjFACdwHiVXkHlW8YVeNbi3OQToFS37bg6r3dkKGchIbgurLAgrZszSG5bsuUXutCOqASJm_8ISk-NXEeflxAzIz_EvF5olV1nOJLbYNBdsCAtrB21VobgKxs-udfeotHm0jlmrJ4S2xNdV5r77y3oOXhLK7kEm1IolbSCIP235z64pQlCNWgGx4oeOfC5R1LI-f1fGF9z0MdCFNUgLiVDZ3La12i_F97N0Wq7fBvvq7lZECocAckdw05eFcAeuJKP-LYYlhpbbsnXc3XkgYRUp0PgVwa_26ODznWdcXhl4ziKST8moE5Zqbaq0Wh5kBYNA-Icc7K6CZYghFRkU_VfjqtpUj-aACjSQj9SsNTOVTTizrkYJJE7AtPjovvPkuNUhJ6Svt7l1pU1CouvsUQlClKaHMn5h-Y4fvRmGDg2_y3O8GfMPkfS8tzvgwGp5wewpGDWg12DfH8kH8Smqv38TDSo9mrv2Pl4CHAYYdGLNQhRCzJWJw9j3YLmvxEjPJ13FqhwpYRFfT4anqAFVLginP4WhLcC2_gdSvJsLwbxfnx9VYf7_1Yhcts1v3lLLyIzPpjfswNWi33d3Yhxk4DfZdpvTCjOvWSPb8uOVe_CkOajz4g\n",
      "{'error': 'invalid_grant', 'error_description': 'AADSTS700009: Reply address must be provided when presenting an authorization code requested with an explicit reply address. Trace ID: 13b1353a-6beb-44b7-aa34-51303a915101 Correlation ID: 7f4301fe-ef46-4367-b056-97ae9ac651cf Timestamp: 2024-09-25 23:13:58Z', 'error_codes': [700009], 'timestamp': '2024-09-25 23:13:58Z', 'trace_id': '13b1353a-6beb-44b7-aa34-51303a915101', 'correlation_id': '7f4301fe-ef46-4367-b056-97ae9ac651cf'}\n"
     ]
    },
    {
     "ename": "KeyError",
     "evalue": "'access_token'",
     "output_type": "error",
     "traceback": [
      "\u001b[0;31m---------------------------------------------------------------------------\u001b[0m",
      "\u001b[0;31mKeyError\u001b[0m                                  Traceback (most recent call last)",
      "Cell \u001b[0;32mIn[10], line 11\u001b[0m\n\u001b[1;32m      9\u001b[0m access_token \u001b[38;5;241m=\u001b[39m client\u001b[38;5;241m.\u001b[39macquire_token_by_authorization_code(code\u001b[38;5;241m=\u001b[39mauthorization_code, scopes\u001b[38;5;241m=\u001b[39mSCOPES)\n\u001b[1;32m     10\u001b[0m \u001b[38;5;28mprint\u001b[39m(access_token)\n\u001b[0;32m---> 11\u001b[0m access_id \u001b[38;5;241m=\u001b[39m \u001b[43maccess_token\u001b[49m\u001b[43m[\u001b[49m\u001b[38;5;124;43m'\u001b[39;49m\u001b[38;5;124;43maccess_token\u001b[39;49m\u001b[38;5;124;43m'\u001b[39;49m\u001b[43m]\u001b[49m\n",
      "\u001b[0;31mKeyError\u001b[0m: 'access_token'"
     ]
    }
   ],
   "source": [
    "\n",
    "from urllib.parse import urlparse, parse_qs\n",
    "url = \"http://localhost/?code=0.AW8BfNiqM0IXJECe7o6Jt4_ZjR19-ySfGeJHqILGve-IZ5VvAZA.AgABBAIAAAApTwJmzXqdR4BN2miheQMYAwDs_wUA9P8RpIXxXHWIIXmnD0_jy_u6aNPDmGVZMyeM5xWmVAN92V0dZ36jBkOzi8G67tsRKczaLpx_SpM5rQvLEV2te7BWwDGVLCzWDhsxYR21svmDDqYIhRbOyRqjQ3MFyCWqTRZ7dXpRlxXD8JbBOUWgXh9Qd20F7IB4fxURjUjiW-HH1ZmXwq3r3pbTATml7KyHVnyGawaxxclSToKt-z_ordNaaqhcxzU1dpD9uYuzoZ00GzRBTC9tB002LRiFYxzzj3SU4cNhCvLzInR_Bl45G-4FVtIad6EYAsNE1FJuRFOwdtwOScN03M4DGN6WiCLkjXBLskiZj2HhvBgnyeG5Bm4GCvZLZtgA3yVRov0ATShBTEaLz_EJ3jo_FLw6onX3kb5KE0hyFxP4ZuFBLH8P7JC53a6unVx5bk1B_G2w5nLoeGKbafH5vrYcndIbjuzAAj2nQG4cIMOgKV3ihiTHmqx-AIyWJRRa61ORV604850wQ3DIoHk5v_mBkKG2vXdtwzvO7K-6FpZcf7gtdhJXmj5kOu3rVgHNPY7sEBbUHft4OwNOzZPlFIRc-I2uzxR-EiaXp17Qf9BdqviudnT5ZqbL2JDWDhgg0aBAcJCPr3jn5nsAkTKDfzF2w8PFP0qCIDHZlOsRR8nBfjAxwmelRXP5GGHKEMSOo-7NFhH_sA6elWIIetqrYAWq_lUp3jVPcOV0vxopQftF8fcQ_BsN7q5x8YfQ3I2CzYReZGeDv45apcWcR0t5449lpz8Ge27APT-Sxro9tCDpnpGymsvlUqF2UHkS4YZEjFACdwHiVXkHlW8YVeNbi3OQToFS37bg6r3dkKGchIbgurLAgrZszSG5bsuUXutCOqASJm_8ISk-NXEeflxAzIz_EvF5olV1nOJLbYNBdsCAtrB21VobgKxs-udfeotHm0jlmrJ4S2xNdV5r77y3oOXhLK7kEm1IolbSCIP235z64pQlCNWgGx4oeOfC5R1LI-f1fGF9z0MdCFNUgLiVDZ3La12i_F97N0Wq7fBvvq7lZECocAckdw05eFcAeuJKP-LYYlhpbbsnXc3XkgYRUp0PgVwa_26ODznWdcXhl4ziKST8moE5Zqbaq0Wh5kBYNA-Icc7K6CZYghFRkU_VfjqtpUj-aACjSQj9SsNTOVTTizrkYJJE7AtPjovvPkuNUhJ6Svt7l1pU1CouvsUQlClKaHMn5h-Y4fvRmGDg2_y3O8GfMPkfS8tzvgwGp5wewpGDWg12DfH8kH8Smqv38TDSo9mrv2Pl4CHAYYdGLNQhRCzJWJw9j3YLmvxEjPJ13FqhwpYRFfT4anqAFVLginP4WhLcC2_gdSvJsLwbxfnx9VYf7_1Yhcts1v3lLLyIzPpjfswNWi33d3Yhxk4DfZdpvTCjOvWSPb8uOVe_CkOajz4g&session_state=c6bfde7c-9fc6-4bfb-8a84-f8720243b0e4\"\n",
    "parsed_url = urlparse(url)\n",
    "query_params = parse_qs(parsed_url.query)\n",
    "auth_code = query_params.get('code', [None])[0]\n",
    "print(auth_code)\n",
    "\n",
    "authorization_code = auth_code\n",
    "access_token = client.acquire_token_by_authorization_code(code=authorization_code, scopes=SCOPES)\n",
    "print(access_token)\n",
    "access_id = access_token['access_token']"
   ]
  },
  {
   "cell_type": "code",
   "execution_count": 5,
   "metadata": {},
   "outputs": [
    {
     "name": "stdout",
     "output_type": "stream",
     "text": [
      "0.AW8BfNiqM0IXJECe7o6Jt4_ZjR19-ySfGeJHqILGve-IZ5VvAZA.AgABBAIAAAApTwJmzXqdR4BN2miheQMYAwDs_wUA9P9XDkf14afxHn-oxoGw2oS0W92RUvHsjO4EOKjU7iejunvds3zZZ8oGKhjDecDffJsSEeJ3T79IUbnOwFF24Bzx1L5Ld7R1W8q1GlnHHThvCs1Q7Y58RnPL5Jt4vdAEWE_Yg3TW79-und-x_Euqyikv364IsaNr21RYLxkJw9oEGHrskxPFE_hEjDNw7WLyGFUunwzQTmVPAXdu_tX-enjDWtJvdTZJfshF0iQ5tapevW8bzmds3Hrixhk6Smp6SxsDNsb4XA07iDz_tNaojyrivUAzwiP9xqcF7PVR6JJz9kEuLYtgjZO7KTvGAbVk-Y52pNfchQUk9iPYIZWyWeFIYwYeSbzSH4p4UDhXdDkO0USmih49HAiwLlhwM7EwGZLZxHARijdmfIcGxjxnJMee_z5UkyGVKldLIhFnom374ENfQOTbpG0_foGTtrnxSyfIYlDIMLOvGElXkw0WpfnrJBI5xOpO1d9jZ6qZ08N9ultmEsaWzmJk1VlJXPEvtp2yrFrQR7gKJqtGCv2LOZ0ap9Yy6wUfS52NxfXOT1rs9kx7_E2lMGUc2cQd0ghdixyMr5JJxj7ass0z-PD6eULIdrt76MACxC2xswNGbsr2X6u27467YpUJOI0eqxYwzEKg2PDWvybJ7Wsqr_rgzJ5FeatQxdZ-YP7WnUJUwNDJsM69_ogLCvMY3soaFPQP49EG55INf1uOpDsLQZRi2ndqIZ-Timlvvssor4frYG5TJCjbldSN7gTmUPvMrPFHUmEr6zyp-HoJ9FClUsUmaaJGVpCBWA5fJrtIrmj9cohHremjdP3zAJtUygN5-sSI76dcyKIhePkmiK4YJMenCPAFBae7ZwoE7-lPZw8RyU7XfaNY9n6jHVonwz98_9pCR15UyUcafEaEMrBAinrOnMwgW-BQSiDAKIKCSOeYQpb7TP5rND6hC-7UfWx3o07cyScuLR0z982LJSgY8E7wlpyi7Tatuivk0ocdGPi5AXFmp9MAiVjXQvJXFjkxTMIH3owD2vPGC7j5z-x379-2oNTkwWU6hhD6VrFuh90ke8-s_Epmdjqj112J6jPP48trzFpITYYhtXult9ZuggWaNusLyvuztTeQ-77HO_h6hnKjJAbYQKR6_-ahWllfn8XkN5aq0j4dt3RNhLqLoLaAhvixZD40u8D3j8uWpu6UEsfMBgOZ5axNMLXUw3NML0MPbEXntd2xHPVfmF2xpDrzCzo5JerYHGcmcSMlzmGof1xVcQX6rkptwwOsZ9YzDfxWGNSLdwFikie1KUbsPH65VO7lzRjrsxhN1GC6be_VMGfMvRAaqDeWvRJ5ZYTsGKzhKVB8rgeBg7APOe-GnZVkttaUyqZatQgUuQ2rHS7lmnnf4QNJFnIFzbnxHDGQ7Iecw00ZadyZcbqkJVw\n"
     ]
    }
   ],
   "source": []
  },
  {
   "cell_type": "code",
   "execution_count": 7,
   "metadata": {},
   "outputs": [
    {
     "name": "stdout",
     "output_type": "stream",
     "text": [
      "{'error': 'invalid_client', 'error_description': \"AADSTS700025: Client is public so neither 'client_assertion' nor 'client_secret' should be presented. Trace ID: 0130a6a0-0ffe-41af-b071-37f9c7e92f00 Correlation ID: 9cd6847e-fed4-4c00-bcf9-1c007e54060a Timestamp: 2024-09-25 23:10:00Z\", 'error_codes': [700025], 'timestamp': '2024-09-25 23:10:00Z', 'trace_id': '0130a6a0-0ffe-41af-b071-37f9c7e92f00', 'correlation_id': '9cd6847e-fed4-4c00-bcf9-1c007e54060a'}\n"
     ]
    },
    {
     "ename": "KeyError",
     "evalue": "'access_token'",
     "output_type": "error",
     "traceback": [
      "\u001b[0;31m---------------------------------------------------------------------------\u001b[0m",
      "\u001b[0;31mKeyError\u001b[0m                                  Traceback (most recent call last)",
      "Cell \u001b[0;32mIn[7], line 4\u001b[0m\n\u001b[1;32m      2\u001b[0m access_token \u001b[38;5;241m=\u001b[39m client\u001b[38;5;241m.\u001b[39macquire_token_by_authorization_code(code\u001b[38;5;241m=\u001b[39mauthorization_code, scopes\u001b[38;5;241m=\u001b[39mSCOPES)\n\u001b[1;32m      3\u001b[0m \u001b[38;5;28mprint\u001b[39m(access_token)\n\u001b[0;32m----> 4\u001b[0m access_id \u001b[38;5;241m=\u001b[39m \u001b[43maccess_token\u001b[49m\u001b[43m[\u001b[49m\u001b[38;5;124;43m'\u001b[39;49m\u001b[38;5;124;43maccess_token\u001b[39;49m\u001b[38;5;124;43m'\u001b[39;49m\u001b[43m]\u001b[49m\n",
      "\u001b[0;31mKeyError\u001b[0m: 'access_token'"
     ]
    }
   ],
   "source": []
  },
  {
   "cell_type": "code",
   "execution_count": null,
   "metadata": {},
   "outputs": [],
   "source": [
    "import msal\n",
    "\n",
    "def generate_access_token():\n",
    "    access_token_cache = msal.SerializableTokenCache()\n",
    "    # read the token file \n",
    "    if os.path.exists(\"token.json\"):\n",
    "        access_token_cache.deserialize(open(\"token.json\", \"r\").read())\n",
    "        \n",
    "    \n",
    "    client = msal.PublicClientApplication (cLient_id=app_id, token_cache=access_token_cache)\n",
    "    \n",
    "    accounts = client.get_accounts()\n",
    "    if accounts:\n",
    "        token_response = client.acquire_token_silent(scopes, accounts[0])\n",
    "    token_response = client.acquire_token_silent(SCOPES, account=accounts[0])\n",
    "    pr"
   ]
  }
 ],
 "metadata": {
  "kernelspec": {
   "display_name": "pyqt-env",
   "language": "python",
   "name": "python3"
  },
  "language_info": {
   "codemirror_mode": {
    "name": "ipython",
    "version": 3
   },
   "file_extension": ".py",
   "mimetype": "text/x-python",
   "name": "python",
   "nbconvert_exporter": "python",
   "pygments_lexer": "ipython3",
   "version": "3.11.10"
  }
 },
 "nbformat": 4,
 "nbformat_minor": 2
}
