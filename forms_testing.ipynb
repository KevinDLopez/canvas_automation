{
 "cells": [
  {
   "cell_type": "code",
   "execution_count": 1,
   "metadata": {},
   "outputs": [
    {
     "name": "stdout",
     "output_type": "stream",
     "text": [
      "{'formId': '14vM9XQp7BgHLA6JjtasZoxlFlGfRJdlqrRZqhcw9XHs', 'info': {'title': 'Python A Testing', 'description': 'Description ', 'documentTitle': 'Python A Testing'}, 'settings': {}, 'revisionId': '0000001f', 'responderUri': 'https://docs.google.com/forms/d/e/1FAIpQLSftqW9lIXy-g9IwpVfGGlDlYS-BKmxsSBb5_9o9MYfX6VB9ow/viewform', 'items': [{'itemId': '6db7d7a2', 'title': 'Untitled Question 1', 'questionItem': {'question': {'questionId': '4ce28e38', 'required': True, 'choiceQuestion': {'type': 'CHECKBOX', 'options': [{'value': 'Option 1'}, {'value': 'Option 2'}]}}}}, {'itemId': '0275da25', 'title': 'Question 2 ', 'questionItem': {'question': {'questionId': '3299072c', 'choiceQuestion': {'type': 'DROP_DOWN', 'options': [{'value': 'Option 1'}, {'value': 'Option 2'}, {'value': 'Option 3'}]}}}}, {'itemId': '1da8df20', 'title': 'Question 3 (linear scale) ', 'questionItem': {'question': {'questionId': '76e521e5', 'scaleQuestion': {'low': 1, 'high': 5}}}}, {'itemId': '384f587f', 'questionGroupItem': {'questions': [{'questionId': '68d0f090', 'rowQuestion': {'title': 'Row 1'}}, {'questionId': '420a7ec9', 'rowQuestion': {'title': 'Row 2'}}], 'grid': {'columns': {'type': 'CHECKBOX', 'options': [{'value': 'Column 1'}, {'value': 'Column 2'}]}}}, 'title': 'Question 4  ( Checkbox grid ) '}], 'linkedSheetId': '1btgWEAi5AP2I1WOJn6z8ncPYASOul0Ik9ZCJXmF6ui4'}\n"
     ]
    }
   ],
   "source": [
    "# https://forms.gle/VP7qS5F3GzU2QLBRA\n",
    "# https://docs.google.com/forms/d/e/1FAIpQLSftqW9lIXy-g9IwpVfGGlDlYS-BKmxsSBb5_9o9MYfX6VB9ow/viewform?usp=sf_link\n",
    "\n",
    "# !pip install --upgrade google-api-python-client google-auth-httplib2 google-auth-oauthlib\n",
    "\n",
    "# Viewing a form \n",
    "from googleapiclient import discovery\n",
    "from google.auth.transport.requests import Request\n",
    "from google.oauth2.credentials import Credentials\n",
    "from google_auth_oauthlib.flow import InstalledAppFlow\n",
    "import os.path\n",
    "\n",
    "SCOPES = [\"https://www.googleapis.com/auth/forms.body\"]\n",
    "DISCOVERY_DOC = \"https://forms.googleapis.com/$discovery/rest?version=v1\"\n",
    "\n",
    "creds = None\n",
    "# The file token.json stores the user's access and refresh tokens, and is\n",
    "# created automatically when the authorization flow completes for the first time.\n",
    "if os.path.exists(\"token.json\"):\n",
    "    creds = Credentials.from_authorized_user_file(\"token.json\", SCOPES)\n",
    "# If there are no (valid) credentials available, let the user log in.\n",
    "if not creds or not creds.valid:\n",
    "    if creds and creds.expired and creds.refresh_token:\n",
    "        creds.refresh(Request())\n",
    "    else:\n",
    "        flow = InstalledAppFlow.from_client_secrets_file(\"client_secrets.json\", SCOPES)\n",
    "        creds = flow.run_local_server(port=0)\n",
    "    # Save the credentials for the next run\n",
    "    with open(\"token.json\", \"w\") as token:\n",
    "        token.write(creds.to_json())\n",
    "\n",
    "service = discovery.build(\n",
    "    \"forms\",\n",
    "    \"v1\",\n",
    "    credentials=creds,\n",
    "    discoveryServiceUrl=DISCOVERY_DOC,\n",
    "    static_discovery=False,\n",
    ")\n",
    "\n",
    "# Prints the title of the sample form:\n",
    "form_id = \"14vM9XQp7BgHLA6JjtasZoxlFlGfRJdlqrRZqhcw9XHs\"\n",
    "result = service.forms().get(formId=form_id).execute()\n",
    "print(result)\n",
    "\n",
    "\n",
    "# Now create a google form "
   ]
  },
  {
   "cell_type": "code",
   "execution_count": 6,
   "metadata": {},
   "outputs": [
    {
     "name": "stdout",
     "output_type": "stream",
     "text": [
      "Form ID: 13l6986RR0UqFcmDN-cDyKpQUKHVemRpo9dntvWLesWU\n",
      "Form URL: https://docs.google.com/forms/d/13l6986RR0UqFcmDN-cDyKpQUKHVemRpo9dntvWLesWU/edit\n"
     ]
    }
   ],
   "source": [
    "# Creating a form - working \n",
    "import os\n",
    "from google.oauth2.credentials import Credentials\n",
    "from google_auth_oauthlib.flow import InstalledAppFlow\n",
    "from googleapiclient.discovery import build\n",
    "\n",
    "# Define the scopes\n",
    "SCOPES = [\"https://www.googleapis.com/auth/forms.body\"]\n",
    "\n",
    "# Authenticate and authorize\n",
    "creds = None\n",
    "if os.path.exists(\"token.json\"):\n",
    "    creds = Credentials.from_authorized_user_file(\"token.json\", SCOPES)\n",
    "if not creds or not creds.valid:\n",
    "    if creds and creds.expired and creds.refresh_token:\n",
    "        creds.refresh(Request())\n",
    "    else:\n",
    "        flow = InstalledAppFlow.from_client_secrets_file(\"client_secrets.json\", SCOPES)\n",
    "        creds = flow.run_local_server(port=0)\n",
    "    with open(\"token.json\", \"w\") as token:\n",
    "        token.write(creds.to_json())\n",
    "\n",
    "# Build the service\n",
    "service = build(\"forms\", \"v1\", credentials=creds)\n",
    "\n",
    "# Create the form with just the title\n",
    "form = {\n",
    "    \"info\": {\n",
    "        \"title\": \"Sample Form\"\n",
    "    }\n",
    "}\n",
    "\n",
    "created_form = service.forms().create(body=form).execute()\n",
    "\n",
    "# Define the batch update request to add questions\n",
    "requests = [\n",
    "    {\n",
    "        \"createItem\": {\n",
    "            \"item\": {\n",
    "                \"title\": \"What is your name?\",\n",
    "                \"questionItem\": {\n",
    "                    \"question\": {\n",
    "                        \"required\": True,\n",
    "                        \"textQuestion\": {}\n",
    "                    }\n",
    "                }\n",
    "            },\n",
    "            \"location\": {\n",
    "                \"index\": 0\n",
    "            }\n",
    "        }\n",
    "    },\n",
    "    {\n",
    "        \"createItem\": {\n",
    "            \"item\": {\n",
    "                \"title\": \"What is your favorite color?\",\n",
    "                \"questionItem\": {\n",
    "                    \"question\": {\n",
    "                        \"required\": True,\n",
    "                        \"choiceQuestion\": {\n",
    "                            \"type\": \"RADIO\",\n",
    "                            \"options\": [\n",
    "                                {\"value\": \"Red\"},\n",
    "                                {\"value\": \"Blue\"},\n",
    "                                {\"value\": \"Green\"}\n",
    "                            ]\n",
    "                        }\n",
    "                    }\n",
    "                }\n",
    "            },\n",
    "            \"location\": {\n",
    "                \"index\": 1\n",
    "            }\n",
    "        }\n",
    "    }\n",
    "]\n",
    "\n",
    "batch_update_request = {\n",
    "    \"requests\": requests\n",
    "}\n",
    "\n",
    "# Execute the batch update\n",
    "service.forms().batchUpdate(formId=created_form['formId'], body=batch_update_request).execute()\n",
    "\n",
    "# Print the form ID and URL\n",
    "print(f\"Form ID: {created_form['formId']}\")\n",
    "print(f\"Form URL: https://docs.google.com/forms/d/{created_form['formId']}/edit\")\n"
   ]
  },
  {
   "cell_type": "code",
   "execution_count": 9,
   "metadata": {},
   "outputs": [
    {
     "name": "stdout",
     "output_type": "stream",
     "text": [
      "{'formId': '14vM9XQp7BgHLA6JjtasZoxlFlGfRJdlqrRZqhcw9XHs', 'info': {'title': 'Python A Testing', 'description': 'Description ', 'documentTitle': 'Python A Testing'}, 'settings': {}, 'revisionId': '0000001f', 'responderUri': 'https://docs.google.com/forms/d/e/1FAIpQLSftqW9lIXy-g9IwpVfGGlDlYS-BKmxsSBb5_9o9MYfX6VB9ow/viewform', 'items': [{'itemId': '6db7d7a2', 'title': 'Untitled Question 1', 'questionItem': {'question': {'questionId': '4ce28e38', 'required': True, 'choiceQuestion': {'type': 'CHECKBOX', 'options': [{'value': 'Option 1'}, {'value': 'Option 2'}]}}}}, {'itemId': '0275da25', 'title': 'Question 2 ', 'questionItem': {'question': {'questionId': '3299072c', 'choiceQuestion': {'type': 'DROP_DOWN', 'options': [{'value': 'Option 1'}, {'value': 'Option 2'}, {'value': 'Option 3'}]}}}}, {'itemId': '1da8df20', 'title': 'Question 3 (linear scale) ', 'questionItem': {'question': {'questionId': '76e521e5', 'scaleQuestion': {'low': 1, 'high': 5}}}}, {'itemId': '384f587f', 'questionGroupItem': {'questions': [{'questionId': '68d0f090', 'rowQuestion': {'title': 'Row 1'}}, {'questionId': '420a7ec9', 'rowQuestion': {'title': 'Row 2'}}], 'grid': {'columns': {'type': 'CHECKBOX', 'options': [{'value': 'Column 1'}, {'value': 'Column 2'}]}}}, 'title': 'Question 4  ( Checkbox grid ) '}]}\n"
     ]
    }
   ],
   "source": [
    "from googleapiclient.errors import HttpError\n",
    "\n",
    "# Prints the title of the sample form:\n",
    "form_id = \"14vM9XQp7BgHLA6JjtasZoxlFlGfRJdlqrRZqhcw9XHs\"\n",
    "try:\n",
    "    result = service.forms().get(formId=form_id).execute()\n",
    "    print(result)\n",
    "except HttpError as error:\n",
    "    print(f\"An error occurred: {error}\")\n",
    "    if error.resp.status == 404:\n",
    "        print(\"The requested form was not found. Please check the form ID.\")\n",
    "    else:\n",
    "        print(\"An unexpected error occurred.\")"
   ]
  },
  {
   "cell_type": "code",
   "execution_count": null,
   "metadata": {},
   "outputs": [],
   "source": []
  }
 ],
 "metadata": {
  "kernelspec": {
   "display_name": "pyqt-env",
   "language": "python",
   "name": "python3"
  },
  "language_info": {
   "codemirror_mode": {
    "name": "ipython",
    "version": 3
   },
   "file_extension": ".py",
   "mimetype": "text/x-python",
   "name": "python",
   "nbconvert_exporter": "python",
   "pygments_lexer": "ipython3",
   "version": "3.11.10"
  }
 },
 "nbformat": 4,
 "nbformat_minor": 2
}
