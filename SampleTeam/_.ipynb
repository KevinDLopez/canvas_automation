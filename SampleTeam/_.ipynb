{
 "cells": [
  {
   "cell_type": "code",
   "execution_count": 3,
   "metadata": {},
   "outputs": [
    {
     "name": "stdout",
     "output_type": "stream",
     "text": [
      "{'team_name': 'SampleTeam', 'topic': 'SampleTopic', 'team_members': [{'name': 'John Doe', 'email': 'johnDoe'}, {'name': 'Jane does', 'email': 'johnDoe'}], 'github_repo': 'github.com/username/repo', 'presentation_time': {'start': datetime.datetime(2021, 1, 1, 0, 0, tzinfo=datetime.timezone.utc), 'end': datetime.datetime(2021, 1, 1, 0, 0, tzinfo=datetime.timezone.utc)}}\n"
     ]
    }
   ],
   "source": [
    "# !pip install pyyaml\n",
    "import yaml\n",
    "\n",
    "# Step 3: Open the YAML file\n",
    "with open('./teamInfo.yml', 'r') as file:\n",
    "    # Step 4: Load the YAML data\n",
    "    data = yaml.safe_load(file)\n",
    "\n",
    "# Step 5: Access the data\n",
    "print(data)"
   ]
  },
  {
   "cell_type": "code",
   "execution_count": null,
   "metadata": {},
   "outputs": [],
   "source": [
    "a = {\n",
    "    \"team_name\": \"SampleTeam\",\n",
    "    \"topic\": \"SampleTopic\",\n",
    "    \"team_members\": [\n",
    "        {\"name\": \"John Doe\", \"email\": \"johnDoe\"}, \n",
    "        {\"name\": \"Jane does\", \"email\": \"johnDoe\"}\n",
    "        ],\n",
    "    \"github_repo\": \"github.com/username/repo\",\n",
    "    \"presentation_time\": {\n",
    "        \"start\": datetime.datetime(2021, 1, 1, 0, 0, tzinfo=datetime.timezone.utc),\n",
    "        \"end\": datetime.datetime(2021, 1, 1, 0, 0, tzinfo=datetime.timezone.utc),\n",
    "    },\n",
    "}"
   ]
  }
 ],
 "metadata": {
  "kernelspec": {
   "display_name": "pyqt-env",
   "language": "python",
   "name": "python3"
  },
  "language_info": {
   "codemirror_mode": {
    "name": "ipython",
    "version": 3
   },
   "file_extension": ".py",
   "mimetype": "text/x-python",
   "name": "python",
   "nbconvert_exporter": "python",
   "pygments_lexer": "ipython3",
   "version": "3.11.10"
  }
 },
 "nbformat": 4,
 "nbformat_minor": 2
}
