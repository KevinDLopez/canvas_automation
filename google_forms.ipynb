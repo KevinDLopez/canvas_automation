{
 "cells": [
  {
   "cell_type": "code",
   "execution_count": 7,
   "metadata": {},
   "outputs": [
    {
     "name": "stdout",
     "output_type": "stream",
     "text": [
      "The autoreload extension is already loaded. To reload it, use:\n",
      "  %reload_ext autoreload\n"
     ]
    }
   ],
   "source": [
    "# !pip install --upgrade jupyter ipython\n",
    "%load_ext autoreload\n",
    "%autoreload 2\n"
   ]
  },
  {
   "cell_type": "code",
   "execution_count": 8,
   "metadata": {},
   "outputs": [],
   "source": [
    "\n",
    "import GoogleServices\n",
    "from GoogleServices.GoogleServices import GoogleServicesManager "
   ]
  },
  {
   "cell_type": "code",
   "execution_count": 9,
   "metadata": {},
   "outputs": [],
   "source": [
    "gsm = GoogleServicesManager()"
   ]
  },
  {
   "cell_type": "code",
   "execution_count": null,
   "metadata": {},
   "outputs": [],
   "source": [
    "# https://docs.google.com/forms/d/1XykFAgYiZgMLGq7qZTlVwwacGaA_hhMDsNqAN43M8IU/edit?ts=67019570&exids=71471476,71471470"
   ]
  },
  {
   "cell_type": "code",
   "execution_count": 18,
   "metadata": {},
   "outputs": [
    {
     "data": {
      "text/plain": [
       "{'formId': '1XykFAgYiZgMLGq7qZTlVwwacGaA_hhMDsNqAN43M8IU',\n",
       " 'info': {'title': 'Team \"Team_XYZ\" Paper & Presentation Evaluation',\n",
       "  'description': 'Please submit your feedback regarding the research topic, paper, and presentation of this team. ',\n",
       "  'documentTitle': 'Copy of SZZ-574-TT\"Team_XYZ\" Evaluation'},\n",
       " 'settings': {},\n",
       " 'revisionId': '00000003',\n",
       " 'responderUri': 'https://docs.google.com/forms/d/e/1FAIpQLSfDGMMu4Pos39jbBWM0Mfz_VmqZnej64iguiwpAe5gR5S899A/viewform',\n",
       " 'items': [{'itemId': '7790ec94',\n",
       "   'title': 'Your Full Name',\n",
       "   'questionItem': {'question': {'questionId': '6b3d5969',\n",
       "     'required': True,\n",
       "     'textQuestion': {}}}},\n",
       "  {'itemId': '733c8041',\n",
       "   'title': 'Have reviewed the paper?',\n",
       "   'questionItem': {'question': {'questionId': '0dd4a9bd',\n",
       "     'required': True,\n",
       "     'choiceQuestion': {'type': 'RADIO',\n",
       "      'options': [{'value': 'Yes'},\n",
       "       {'value': 'No'},\n",
       "       {'value': 'Not received it'}]}}}},\n",
       "  {'itemId': '02b0a6f4',\n",
       "   'questionGroupItem': {'questions': [{'questionId': '22ab2366',\n",
       "      'required': True,\n",
       "      'rowQuestion': {'title': 'Level of effort you put into the reserach'}},\n",
       "     {'questionId': '5ee9d63d',\n",
       "      'required': True,\n",
       "      'rowQuestion': {'title': 'How is the research topic'}}],\n",
       "    'grid': {'columns': {'type': 'RADIO',\n",
       "      'options': [{'value': 'Poor'},\n",
       "       {'value': 'Fair'},\n",
       "       {'value': 'Satisfactory'},\n",
       "       {'value': 'Very good'},\n",
       "       {'value': 'Excellent'}]}}},\n",
       "   'title': 'Level of effort'},\n",
       "  {'itemId': '7ae5ba16',\n",
       "   'questionGroupItem': {'questions': [{'questionId': '24063192',\n",
       "      'required': True,\n",
       "      'rowQuestion': {'title': 'Contribution of research to your skill/knowledge'}},\n",
       "     {'questionId': '5545c00d',\n",
       "      'required': True,\n",
       "      'rowQuestion': {'title': 'Presentations were clear and organized'}},\n",
       "     {'questionId': '01989e63',\n",
       "      'required': True,\n",
       "      'rowQuestion': {'title': 'Presenters stimulated student interest'}},\n",
       "     {'questionId': '74c570c0',\n",
       "      'required': True,\n",
       "      'rowQuestion': {'title': 'Paper manuscript format/organization'}},\n",
       "     {'questionId': '5cc4d047',\n",
       "      'required': True,\n",
       "      'rowQuestion': {'title': 'Paper content material benefits you?'}}],\n",
       "    'grid': {'columns': {'type': 'RADIO',\n",
       "      'options': [{'value': 'Poor'},\n",
       "       {'value': 'Fair'},\n",
       "       {'value': 'Satisfactory'},\n",
       "       {'value': 'Very good'},\n",
       "       {'value': 'Excellent'}]}}},\n",
       "   'title': 'Contribution to learning'},\n",
       "  {'itemId': '1249f6c3',\n",
       "   'title': 'Do you nominate this team for best paper?',\n",
       "   'questionItem': {'question': {'questionId': '763bcc25',\n",
       "     'required': True,\n",
       "     'choiceQuestion': {'type': 'RADIO',\n",
       "      'options': [{'value': 'Yes'}, {'value': 'No'}]}}}},\n",
       "  {'itemId': '4004a0fa',\n",
       "   'title': 'Feedback to the team',\n",
       "   'questionItem': {'question': {'questionId': '5c4463eb',\n",
       "     'required': True,\n",
       "     'textQuestion': {'paragraph': True}}}},\n",
       "  {'itemId': '4705f167',\n",
       "   'title': 'Write one sentence about what you learned from the Paper or Presentation.',\n",
       "   'questionItem': {'question': {'questionId': '5f348883',\n",
       "     'required': True,\n",
       "     'textQuestion': {'paragraph': True}}}},\n",
       "  {'itemId': '5f477fbe',\n",
       "   'title': \"Overall grade to this team's Slide deck?\",\n",
       "   'description': '[1-5] Does not meet the expectation;  [6-7] Meets expectation;   [8-9] Beyond expectation;  [10] Exceptional, even better than mine',\n",
       "   'questionItem': {'question': {'questionId': '3da5fa3b',\n",
       "     'required': True,\n",
       "     'scaleQuestion': {'low': 1,\n",
       "      'high': 10,\n",
       "      'lowLabel': 'Weak',\n",
       "      'highLabel': 'Exceptional'}}}},\n",
       "  {'itemId': '0b09ec1a',\n",
       "   'title': \"Overall grade to this team's Presentation skills?\",\n",
       "   'description': '[1-5] Does not meet the expectation;  [6-7] Meets expectation;   [8-9] Beyond expectation;  [10] Exceptional, even better than mine',\n",
       "   'questionItem': {'question': {'questionId': '234e7e73',\n",
       "     'required': True,\n",
       "     'scaleQuestion': {'low': 1,\n",
       "      'high': 10,\n",
       "      'lowLabel': 'Weak',\n",
       "      'highLabel': 'Exceptional'}}}},\n",
       "  {'itemId': '770e7ddc',\n",
       "   'title': \"Overall grade to this team's Research topic and (summary) paper content?\",\n",
       "   'description': '[1-5] Does not meet the expectation;  [6-7] Meets expectation;   [8-9] Beyond expectation;  [10] Exceptional, even better than mine',\n",
       "   'questionItem': {'question': {'questionId': '0281a4fe',\n",
       "     'required': True,\n",
       "     'scaleQuestion': {'low': 1,\n",
       "      'high': 10,\n",
       "      'lowLabel': 'Weak',\n",
       "      'highLabel': 'Exceptional'}}}}]}"
      ]
     },
     "execution_count": 18,
     "metadata": {},
     "output_type": "execute_result"
    }
   ],
   "source": [
    "gsm.get_form(\"1XykFAgYiZgMLGq7qZTlVwwacGaA_hhMDsNqAN43M8IU\")\n",
    "# https://docs.google.com/forms/d/e/1FAIpQLSfZ08b-krK45cZzTyndqo_fGxUqwFw55yX3RFA4W1KIlZkRIA/viewform?usp=sf_link"
   ]
  },
  {
   "cell_type": "code",
   "execution_count": 19,
   "metadata": {},
   "outputs": [
    {
     "name": "stdout",
     "output_type": "stream",
     "text": [
      "created_form {'formId': '1fqzOrRtTjzA03-RxzdO3SPC76GP8-jgKie7_RKf_LYE', 'info': {'title': 'Team \"Team_XYZ\" Paper & Presentation Evaluation', 'documentTitle': 'Untitled form'}, 'settings': {}, 'revisionId': '00000002', 'responderUri': 'https://docs.google.com/forms/d/e/1FAIpQLSeezReL9BIReVFQd9pMJDBZ2JrxtY4lOQejTEorAIpf_0rodg/viewform'}\n",
      "batch_update_response {'replies': [{'createItem': {'itemId': '7790ec94', 'questionId': ['6b3d5969']}}, {'createItem': {'itemId': '733c8041', 'questionId': ['0dd4a9bd']}}, {'createItem': {'itemId': '02b0a6f4', 'questionId': ['22ab2366', '5ee9d63d']}}, {'createItem': {'itemId': '7ae5ba16', 'questionId': ['24063192', '5545c00d', '01989e63', '74c570c0', '5cc4d047']}}, {'createItem': {'itemId': '1249f6c3', 'questionId': ['763bcc25']}}, {'createItem': {'itemId': '4004a0fa', 'questionId': ['5c4463eb']}}, {'createItem': {'itemId': '4705f167', 'questionId': ['5f348883']}}, {'createItem': {'itemId': '5f477fbe', 'questionId': ['3da5fa3b']}}, {'createItem': {'itemId': '0b09ec1a', 'questionId': ['234e7e73']}}, {'createItem': {'itemId': '770e7ddc', 'questionId': ['0281a4fe']}}], 'writeControl': {'requiredRevisionId': '00000004'}}\n",
      "Form ID: 1fqzOrRtTjzA03-RxzdO3SPC76GP8-jgKie7_RKf_LYE\n",
      "Form URL to edit: https://docs.google.com/forms/d/1fqzOrRtTjzA03-RxzdO3SPC76GP8-jgKie7_RKf_LYE/edit\n",
      "Form URL to view: https://docs.google.com/forms/d/e/1FAIpQLSeezReL9BIReVFQd9pMJDBZ2JrxtY4lOQejTEorAIpf_0rodg/viewform\n",
      "Title = Team \"Team_XYZ\" Paper & Presentation Evaluation\n"
     ]
    }
   ],
   "source": [
    "from typing import List\n",
    "from GoogleServices.schemas import (\n",
    "    Form,\n",
    "    Item,\n",
    "    ListFormResponsesResponse,\n",
    "    Request as RequestType,\n",
    ")\n",
    "\n",
    "\n",
    "new_form = gsm.make_copy_of_form(\"1XykFAgYiZgMLGq7qZTlVwwacGaA_hhMDsNqAN43M8IU\")"
   ]
  },
  {
   "cell_type": "code",
   "execution_count": 20,
   "metadata": {},
   "outputs": [
    {
     "data": {
      "text/plain": [
       "{'formId': '1fqzOrRtTjzA03-RxzdO3SPC76GP8-jgKie7_RKf_LYE',\n",
       " 'info': {'title': 'Team \"Team_XYZ\" Paper & Presentation Evaluation',\n",
       "  'documentTitle': 'Untitled form'},\n",
       " 'settings': {},\n",
       " 'revisionId': '00000002',\n",
       " 'responderUri': 'https://docs.google.com/forms/d/e/1FAIpQLSeezReL9BIReVFQd9pMJDBZ2JrxtY4lOQejTEorAIpf_0rodg/viewform'}"
      ]
     },
     "execution_count": 20,
     "metadata": {},
     "output_type": "execute_result"
    }
   ],
   "source": [
    "new_form"
   ]
  },
  {
   "cell_type": "markdown",
   "metadata": {},
   "source": [
    "# Make some reponses "
   ]
  },
  {
   "cell_type": "code",
   "execution_count": 22,
   "metadata": {},
   "outputs": [
    {
     "data": {
      "text/plain": [
       "{'formId': '1fqzOrRtTjzA03-RxzdO3SPC76GP8-jgKie7_RKf_LYE',\n",
       " 'info': {'title': 'Team \"Team_XYZ\" Paper & Presentation Evaluation',\n",
       "  'documentTitle': 'Untitled form'},\n",
       " 'settings': {},\n",
       " 'revisionId': '00000004',\n",
       " 'responderUri': 'https://docs.google.com/forms/d/e/1FAIpQLSeezReL9BIReVFQd9pMJDBZ2JrxtY4lOQejTEorAIpf_0rodg/viewform',\n",
       " 'items': [{'itemId': '7790ec94',\n",
       "   'title': 'Your Full Name',\n",
       "   'questionItem': {'question': {'questionId': '6b3d5969',\n",
       "     'required': True,\n",
       "     'textQuestion': {}}}},\n",
       "  {'itemId': '733c8041',\n",
       "   'title': 'Have reviewed the paper?',\n",
       "   'questionItem': {'question': {'questionId': '0dd4a9bd',\n",
       "     'required': True,\n",
       "     'choiceQuestion': {'type': 'RADIO',\n",
       "      'options': [{'value': 'Yes'},\n",
       "       {'value': 'No'},\n",
       "       {'value': 'Not received it'}]}}}},\n",
       "  {'itemId': '02b0a6f4',\n",
       "   'questionGroupItem': {'questions': [{'questionId': '22ab2366',\n",
       "      'required': True,\n",
       "      'rowQuestion': {'title': 'Level of effort you put into the reserach'}},\n",
       "     {'questionId': '5ee9d63d',\n",
       "      'required': True,\n",
       "      'rowQuestion': {'title': 'How is the research topic'}}],\n",
       "    'grid': {'columns': {'type': 'RADIO',\n",
       "      'options': [{'value': 'Poor'},\n",
       "       {'value': 'Fair'},\n",
       "       {'value': 'Satisfactory'},\n",
       "       {'value': 'Very good'},\n",
       "       {'value': 'Excellent'}]}}},\n",
       "   'title': 'Level of effort'},\n",
       "  {'itemId': '7ae5ba16',\n",
       "   'questionGroupItem': {'questions': [{'questionId': '24063192',\n",
       "      'required': True,\n",
       "      'rowQuestion': {'title': 'Contribution of research to your skill/knowledge'}},\n",
       "     {'questionId': '5545c00d',\n",
       "      'required': True,\n",
       "      'rowQuestion': {'title': 'Presentations were clear and organized'}},\n",
       "     {'questionId': '01989e63',\n",
       "      'required': True,\n",
       "      'rowQuestion': {'title': 'Presenters stimulated student interest'}},\n",
       "     {'questionId': '74c570c0',\n",
       "      'required': True,\n",
       "      'rowQuestion': {'title': 'Paper manuscript format/organization'}},\n",
       "     {'questionId': '5cc4d047',\n",
       "      'required': True,\n",
       "      'rowQuestion': {'title': 'Paper content material benefits you?'}}],\n",
       "    'grid': {'columns': {'type': 'RADIO',\n",
       "      'options': [{'value': 'Poor'},\n",
       "       {'value': 'Fair'},\n",
       "       {'value': 'Satisfactory'},\n",
       "       {'value': 'Very good'},\n",
       "       {'value': 'Excellent'}]}}},\n",
       "   'title': 'Contribution to learning'},\n",
       "  {'itemId': '1249f6c3',\n",
       "   'title': 'Do you nominate this team for best paper?',\n",
       "   'questionItem': {'question': {'questionId': '763bcc25',\n",
       "     'required': True,\n",
       "     'choiceQuestion': {'type': 'RADIO',\n",
       "      'options': [{'value': 'Yes'}, {'value': 'No'}]}}}},\n",
       "  {'itemId': '4004a0fa',\n",
       "   'title': 'Feedback to the team',\n",
       "   'questionItem': {'question': {'questionId': '5c4463eb',\n",
       "     'required': True,\n",
       "     'textQuestion': {'paragraph': True}}}},\n",
       "  {'itemId': '4705f167',\n",
       "   'title': 'Write one sentence about what you learned from the Paper or Presentation.',\n",
       "   'questionItem': {'question': {'questionId': '5f348883',\n",
       "     'required': True,\n",
       "     'textQuestion': {'paragraph': True}}}},\n",
       "  {'itemId': '5f477fbe',\n",
       "   'title': \"Overall grade to this team's Slide deck?\",\n",
       "   'description': '[1-5] Does not meet the expectation;  [6-7] Meets expectation;   [8-9] Beyond expectation;  [10] Exceptional, even better than mine',\n",
       "   'questionItem': {'question': {'questionId': '3da5fa3b',\n",
       "     'required': True,\n",
       "     'scaleQuestion': {'low': 1,\n",
       "      'high': 10,\n",
       "      'lowLabel': 'Weak',\n",
       "      'highLabel': 'Exceptional'}}}},\n",
       "  {'itemId': '0b09ec1a',\n",
       "   'title': \"Overall grade to this team's Presentation skills?\",\n",
       "   'description': '[1-5] Does not meet the expectation;  [6-7] Meets expectation;   [8-9] Beyond expectation;  [10] Exceptional, even better than mine',\n",
       "   'questionItem': {'question': {'questionId': '234e7e73',\n",
       "     'required': True,\n",
       "     'scaleQuestion': {'low': 1,\n",
       "      'high': 10,\n",
       "      'lowLabel': 'Weak',\n",
       "      'highLabel': 'Exceptional'}}}},\n",
       "  {'itemId': '770e7ddc',\n",
       "   'title': \"Overall grade to this team's Research topic and (summary) paper content?\",\n",
       "   'description': '[1-5] Does not meet the expectation;  [6-7] Meets expectation;   [8-9] Beyond expectation;  [10] Exceptional, even better than mine',\n",
       "   'questionItem': {'question': {'questionId': '0281a4fe',\n",
       "     'required': True,\n",
       "     'scaleQuestion': {'low': 1,\n",
       "      'high': 10,\n",
       "      'lowLabel': 'Weak',\n",
       "      'highLabel': 'Exceptional'}}}}]}"
      ]
     },
     "execution_count": 22,
     "metadata": {},
     "output_type": "execute_result"
    }
   ],
   "source": [
    "gsm.get_form(new_form['formId'])"
   ]
  },
  {
   "cell_type": "code",
   "execution_count": 21,
   "metadata": {},
   "outputs": [
    {
     "data": {
      "text/plain": [
       "{'responses': [{'responseId': 'ACYDBNiGkk9s0HLFOoQwrRvimfl-M2d-1ydne7lN-B3OCqpOYgHy9CCg5QBpStYLOQA06wM',\n",
       "   'createTime': '2024-10-05T22:14:20.497Z',\n",
       "   'lastSubmittedTime': '2024-10-05T22:14:20.497818Z',\n",
       "   'answers': {'234e7e73': {'questionId': '234e7e73',\n",
       "     'textAnswers': {'answers': [{'value': '10'}]}},\n",
       "    '3da5fa3b': {'questionId': '3da5fa3b',\n",
       "     'textAnswers': {'answers': [{'value': '10'}]}},\n",
       "    '6b3d5969': {'questionId': '6b3d5969',\n",
       "     'textAnswers': {'answers': [{'value': 'Kevin'}]}},\n",
       "    '24063192': {'questionId': '24063192',\n",
       "     'textAnswers': {'answers': [{'value': 'Very good'}]}},\n",
       "    '0dd4a9bd': {'questionId': '0dd4a9bd',\n",
       "     'textAnswers': {'answers': [{'value': 'Yes'}]}},\n",
       "    '74c570c0': {'questionId': '74c570c0',\n",
       "     'textAnswers': {'answers': [{'value': 'Very good'}]}},\n",
       "    '5cc4d047': {'questionId': '5cc4d047',\n",
       "     'textAnswers': {'answers': [{'value': 'Very good'}]}},\n",
       "    '5c4463eb': {'questionId': '5c4463eb',\n",
       "     'textAnswers': {'answers': [{'value': 'asdf '}]}},\n",
       "    '0281a4fe': {'questionId': '0281a4fe',\n",
       "     'textAnswers': {'answers': [{'value': '10'}]}},\n",
       "    '5f348883': {'questionId': '5f348883',\n",
       "     'textAnswers': {'answers': [{'value': 'asdf '}]}},\n",
       "    '22ab2366': {'questionId': '22ab2366',\n",
       "     'textAnswers': {'answers': [{'value': 'Poor'}]}},\n",
       "    '01989e63': {'questionId': '01989e63',\n",
       "     'textAnswers': {'answers': [{'value': 'Very good'}]}},\n",
       "    '5ee9d63d': {'questionId': '5ee9d63d',\n",
       "     'textAnswers': {'answers': [{'value': 'Fair'}]}},\n",
       "    '763bcc25': {'questionId': '763bcc25',\n",
       "     'textAnswers': {'answers': [{'value': 'No'}]}},\n",
       "    '5545c00d': {'questionId': '5545c00d',\n",
       "     'textAnswers': {'answers': [{'value': 'Very good'}]}}}}]}"
      ]
     },
     "execution_count": 21,
     "metadata": {},
     "output_type": "execute_result"
    }
   ],
   "source": [
    "\n",
    "gsm.get_form_responses(new_form['formId'])"
   ]
  },
  {
   "cell_type": "code",
   "execution_count": 23,
   "metadata": {},
   "outputs": [
    {
     "name": "stdout",
     "output_type": "stream",
     "text": [
      "created_form {'formId': '1XVSm02DGAz3PwQ-yMa8HcQ4lrDsPk2txHowhOny6PLA', 'info': {'title': 'Team \"Team_XYZ\" Paper & Presentation Evaluation', 'documentTitle': 'Untitled form'}, 'settings': {}, 'revisionId': '00000002', 'responderUri': 'https://docs.google.com/forms/d/e/1FAIpQLSdJlT-rzGMUPnxCf4X4Orqq559bM5m7IAk5u7S_RS0NbaDWiw/viewform'}\n",
      "batch_update_response {'replies': [{'createItem': {'itemId': '7790ec94', 'questionId': ['6b3d5969']}}, {'createItem': {'itemId': '733c8041', 'questionId': ['0dd4a9bd']}}, {'createItem': {'itemId': '02b0a6f4', 'questionId': ['22ab2366', '5ee9d63d']}}, {'createItem': {'itemId': '7ae5ba16', 'questionId': ['24063192', '5545c00d', '01989e63', '74c570c0', '5cc4d047']}}, {'createItem': {'itemId': '1249f6c3', 'questionId': ['763bcc25']}}, {'createItem': {'itemId': '4004a0fa', 'questionId': ['5c4463eb']}}, {'createItem': {'itemId': '4705f167', 'questionId': ['5f348883']}}, {'createItem': {'itemId': '5f477fbe', 'questionId': ['3da5fa3b']}}, {'createItem': {'itemId': '0b09ec1a', 'questionId': ['234e7e73']}}, {'createItem': {'itemId': '770e7ddc', 'questionId': ['0281a4fe']}}], 'writeControl': {'requiredRevisionId': '00000004'}}\n",
      "Form ID: 1XVSm02DGAz3PwQ-yMa8HcQ4lrDsPk2txHowhOny6PLA\n",
      "Form URL to edit: https://docs.google.com/forms/d/1XVSm02DGAz3PwQ-yMa8HcQ4lrDsPk2txHowhOny6PLA/edit\n",
      "Form URL to view: https://docs.google.com/forms/d/e/1FAIpQLSdJlT-rzGMUPnxCf4X4Orqq559bM5m7IAk5u7S_RS0NbaDWiw/viewform\n",
      "Title = Team \"Team_XYZ\" Paper & Presentation Evaluation\n"
     ]
    }
   ],
   "source": [
    "new_form = gsm.make_copy_of_form(\"1XykFAgYiZgMLGq7qZTlVwwacGaA_hhMDsNqAN43M8IU\")"
   ]
  },
  {
   "cell_type": "code",
   "execution_count": 36,
   "metadata": {},
   "outputs": [],
   "source": [
    "data = gsm.get_form_responses(new_form['formId']) # Generate pandas dataframe\n",
    "# data"
   ]
  },
  {
   "cell_type": "code",
   "execution_count": 37,
   "metadata": {},
   "outputs": [
    {
     "name": "stdout",
     "output_type": "stream",
     "text": [
      "{'responses': [{'responseId': 'ACYDBNi3KEdydoNv-MCTWrWyJaOKQw5NjX6aC1wWnbb96Vd0WnpCJgyYlzyVNUqUmdhOqPY', 'createTime': '2024-10-05T22:33:34.790Z', 'lastSubmittedTime': '2024-10-05T22:33:34.790443Z', 'answers': {'234e7e73': {'questionId': '234e7e73', 'textAnswers': {'answers': [{'value': '1'}]}}, '3da5fa3b': {'questionId': '3da5fa3b', 'textAnswers': {'answers': [{'value': '1'}]}}, '6b3d5969': {'questionId': '6b3d5969', 'textAnswers': {'answers': [{'value': 'kevinlopez'}]}}, '24063192': {'questionId': '24063192', 'textAnswers': {'answers': [{'value': 'Poor'}]}}, '0dd4a9bd': {'questionId': '0dd4a9bd', 'textAnswers': {'answers': [{'value': 'No'}]}}, '74c570c0': {'questionId': '74c570c0', 'textAnswers': {'answers': [{'value': 'Poor'}]}}, '5cc4d047': {'questionId': '5cc4d047', 'textAnswers': {'answers': [{'value': 'Poor'}]}}, '5c4463eb': {'questionId': '5c4463eb', 'textAnswers': {'answers': [{'value': 'asdf'}]}}, '0281a4fe': {'questionId': '0281a4fe', 'textAnswers': {'answers': [{'value': '1'}]}}, '5f348883': {'questionId': '5f348883', 'textAnswers': {'answers': [{'value': 'asdf'}]}}, '22ab2366': {'questionId': '22ab2366', 'textAnswers': {'answers': [{'value': 'Poor'}]}}, '01989e63': {'questionId': '01989e63', 'textAnswers': {'answers': [{'value': 'Poor'}]}}, '5ee9d63d': {'questionId': '5ee9d63d', 'textAnswers': {'answers': [{'value': 'Poor'}]}}, '763bcc25': {'questionId': '763bcc25', 'textAnswers': {'answers': [{'value': 'No'}]}}, '5545c00d': {'questionId': '5545c00d', 'textAnswers': {'answers': [{'value': 'Poor'}]}}}}, {'responseId': 'ACYDBNgKGjbcLBSAKNopXJKtiPmK1_bwA0AvMwGhdZXMg7dKTlMCMUThFNJdQdFW4zzEJXU', 'createTime': '2024-10-05T22:18:58.393Z', 'lastSubmittedTime': '2024-10-05T22:18:58.393108Z', 'answers': {'234e7e73': {'questionId': '234e7e73', 'textAnswers': {'answers': [{'value': '6'}]}}, '3da5fa3b': {'questionId': '3da5fa3b', 'textAnswers': {'answers': [{'value': '6'}]}}, '6b3d5969': {'questionId': '6b3d5969', 'textAnswers': {'answers': [{'value': 'asdf'}]}}, '24063192': {'questionId': '24063192', 'textAnswers': {'answers': [{'value': 'Satisfactory'}]}}, '0dd4a9bd': {'questionId': '0dd4a9bd', 'textAnswers': {'answers': [{'value': 'No'}]}}, '74c570c0': {'questionId': '74c570c0', 'textAnswers': {'answers': [{'value': 'Fair'}]}}, '5cc4d047': {'questionId': '5cc4d047', 'textAnswers': {'answers': [{'value': 'Fair'}]}}, '5c4463eb': {'questionId': '5c4463eb', 'textAnswers': {'answers': [{'value': 'a'}]}}, '0281a4fe': {'questionId': '0281a4fe', 'textAnswers': {'answers': [{'value': '6'}]}}, '5f348883': {'questionId': '5f348883', 'textAnswers': {'answers': [{'value': 'a'}]}}, '22ab2366': {'questionId': '22ab2366', 'textAnswers': {'answers': [{'value': 'Poor'}]}}, '01989e63': {'questionId': '01989e63', 'textAnswers': {'answers': [{'value': 'Fair'}]}}, '5ee9d63d': {'questionId': '5ee9d63d', 'textAnswers': {'answers': [{'value': 'Satisfactory'}]}}, '763bcc25': {'questionId': '763bcc25', 'textAnswers': {'answers': [{'value': 'Yes'}]}}, '5545c00d': {'questionId': '5545c00d', 'textAnswers': {'answers': [{'value': 'Satisfactory'}]}}}}, {'responseId': 'ACYDBNhoVwfdYx3cXoavNwx4vEgZkvPHIiDTihN-JariOuWgdwOSuvT1heFQ6bkyRwNhnEk', 'createTime': '2024-10-05T22:24:30.202Z', 'lastSubmittedTime': '2024-10-05T22:24:30.202967Z', 'answers': {'234e7e73': {'questionId': '234e7e73', 'textAnswers': {'answers': [{'value': '8'}]}}, '3da5fa3b': {'questionId': '3da5fa3b', 'textAnswers': {'answers': [{'value': '5'}]}}, '6b3d5969': {'questionId': '6b3d5969', 'textAnswers': {'answers': [{'value': 'asdf'}]}}, '24063192': {'questionId': '24063192', 'textAnswers': {'answers': [{'value': 'Fair'}]}}, '0dd4a9bd': {'questionId': '0dd4a9bd', 'textAnswers': {'answers': [{'value': 'No'}]}}, '74c570c0': {'questionId': '74c570c0', 'textAnswers': {'answers': [{'value': 'Fair'}]}}, '5cc4d047': {'questionId': '5cc4d047', 'textAnswers': {'answers': [{'value': 'Fair'}]}}, '5c4463eb': {'questionId': '5c4463eb', 'textAnswers': {'answers': [{'value': 'f'}]}}, '0281a4fe': {'questionId': '0281a4fe', 'textAnswers': {'answers': [{'value': '8'}]}}, '5f348883': {'questionId': '5f348883', 'textAnswers': {'answers': [{'value': 'f'}]}}, '22ab2366': {'questionId': '22ab2366', 'textAnswers': {'answers': [{'value': 'Fair'}]}}, '01989e63': {'questionId': '01989e63', 'textAnswers': {'answers': [{'value': 'Fair'}]}}, '5ee9d63d': {'questionId': '5ee9d63d', 'textAnswers': {'answers': [{'value': 'Fair'}]}}, '763bcc25': {'questionId': '763bcc25', 'textAnswers': {'answers': [{'value': 'No'}]}}, '5545c00d': {'questionId': '5545c00d', 'textAnswers': {'answers': [{'value': 'Fair'}]}}}}]}\n",
      "{'responseId': 'ACYDBNi3KEdydoNv-MCTWrWyJaOKQw5NjX6aC1wWnbb96Vd0WnpCJgyYlzyVNUqUmdhOqPY', 'createTime': '2024-10-05T22:33:34.790Z', 'lastSubmittedTime': '2024-10-05T22:33:34.790443Z', 'answers': {'234e7e73': {'questionId': '234e7e73', 'textAnswers': {'answers': [{'value': '1'}]}}, '3da5fa3b': {'questionId': '3da5fa3b', 'textAnswers': {'answers': [{'value': '1'}]}}, '6b3d5969': {'questionId': '6b3d5969', 'textAnswers': {'answers': [{'value': 'kevinlopez'}]}}, '24063192': {'questionId': '24063192', 'textAnswers': {'answers': [{'value': 'Poor'}]}}, '0dd4a9bd': {'questionId': '0dd4a9bd', 'textAnswers': {'answers': [{'value': 'No'}]}}, '74c570c0': {'questionId': '74c570c0', 'textAnswers': {'answers': [{'value': 'Poor'}]}}, '5cc4d047': {'questionId': '5cc4d047', 'textAnswers': {'answers': [{'value': 'Poor'}]}}, '5c4463eb': {'questionId': '5c4463eb', 'textAnswers': {'answers': [{'value': 'asdf'}]}}, '0281a4fe': {'questionId': '0281a4fe', 'textAnswers': {'answers': [{'value': '1'}]}}, '5f348883': {'questionId': '5f348883', 'textAnswers': {'answers': [{'value': 'asdf'}]}}, '22ab2366': {'questionId': '22ab2366', 'textAnswers': {'answers': [{'value': 'Poor'}]}}, '01989e63': {'questionId': '01989e63', 'textAnswers': {'answers': [{'value': 'Poor'}]}}, '5ee9d63d': {'questionId': '5ee9d63d', 'textAnswers': {'answers': [{'value': 'Poor'}]}}, '763bcc25': {'questionId': '763bcc25', 'textAnswers': {'answers': [{'value': 'No'}]}}, '5545c00d': {'questionId': '5545c00d', 'textAnswers': {'answers': [{'value': 'Poor'}]}}}}\n",
      "{'responseId': 'ACYDBNgKGjbcLBSAKNopXJKtiPmK1_bwA0AvMwGhdZXMg7dKTlMCMUThFNJdQdFW4zzEJXU', 'createTime': '2024-10-05T22:18:58.393Z', 'lastSubmittedTime': '2024-10-05T22:18:58.393108Z', 'answers': {'234e7e73': {'questionId': '234e7e73', 'textAnswers': {'answers': [{'value': '6'}]}}, '3da5fa3b': {'questionId': '3da5fa3b', 'textAnswers': {'answers': [{'value': '6'}]}}, '6b3d5969': {'questionId': '6b3d5969', 'textAnswers': {'answers': [{'value': 'asdf'}]}}, '24063192': {'questionId': '24063192', 'textAnswers': {'answers': [{'value': 'Satisfactory'}]}}, '0dd4a9bd': {'questionId': '0dd4a9bd', 'textAnswers': {'answers': [{'value': 'No'}]}}, '74c570c0': {'questionId': '74c570c0', 'textAnswers': {'answers': [{'value': 'Fair'}]}}, '5cc4d047': {'questionId': '5cc4d047', 'textAnswers': {'answers': [{'value': 'Fair'}]}}, '5c4463eb': {'questionId': '5c4463eb', 'textAnswers': {'answers': [{'value': 'a'}]}}, '0281a4fe': {'questionId': '0281a4fe', 'textAnswers': {'answers': [{'value': '6'}]}}, '5f348883': {'questionId': '5f348883', 'textAnswers': {'answers': [{'value': 'a'}]}}, '22ab2366': {'questionId': '22ab2366', 'textAnswers': {'answers': [{'value': 'Poor'}]}}, '01989e63': {'questionId': '01989e63', 'textAnswers': {'answers': [{'value': 'Fair'}]}}, '5ee9d63d': {'questionId': '5ee9d63d', 'textAnswers': {'answers': [{'value': 'Satisfactory'}]}}, '763bcc25': {'questionId': '763bcc25', 'textAnswers': {'answers': [{'value': 'Yes'}]}}, '5545c00d': {'questionId': '5545c00d', 'textAnswers': {'answers': [{'value': 'Satisfactory'}]}}}}\n",
      "{'responseId': 'ACYDBNhoVwfdYx3cXoavNwx4vEgZkvPHIiDTihN-JariOuWgdwOSuvT1heFQ6bkyRwNhnEk', 'createTime': '2024-10-05T22:24:30.202Z', 'lastSubmittedTime': '2024-10-05T22:24:30.202967Z', 'answers': {'234e7e73': {'questionId': '234e7e73', 'textAnswers': {'answers': [{'value': '8'}]}}, '3da5fa3b': {'questionId': '3da5fa3b', 'textAnswers': {'answers': [{'value': '5'}]}}, '6b3d5969': {'questionId': '6b3d5969', 'textAnswers': {'answers': [{'value': 'asdf'}]}}, '24063192': {'questionId': '24063192', 'textAnswers': {'answers': [{'value': 'Fair'}]}}, '0dd4a9bd': {'questionId': '0dd4a9bd', 'textAnswers': {'answers': [{'value': 'No'}]}}, '74c570c0': {'questionId': '74c570c0', 'textAnswers': {'answers': [{'value': 'Fair'}]}}, '5cc4d047': {'questionId': '5cc4d047', 'textAnswers': {'answers': [{'value': 'Fair'}]}}, '5c4463eb': {'questionId': '5c4463eb', 'textAnswers': {'answers': [{'value': 'f'}]}}, '0281a4fe': {'questionId': '0281a4fe', 'textAnswers': {'answers': [{'value': '8'}]}}, '5f348883': {'questionId': '5f348883', 'textAnswers': {'answers': [{'value': 'f'}]}}, '22ab2366': {'questionId': '22ab2366', 'textAnswers': {'answers': [{'value': 'Fair'}]}}, '01989e63': {'questionId': '01989e63', 'textAnswers': {'answers': [{'value': 'Fair'}]}}, '5ee9d63d': {'questionId': '5ee9d63d', 'textAnswers': {'answers': [{'value': 'Fair'}]}}, '763bcc25': {'questionId': '763bcc25', 'textAnswers': {'answers': [{'value': 'No'}]}}, '5545c00d': {'questionId': '5545c00d', 'textAnswers': {'answers': [{'value': 'Fair'}]}}}}\n"
     ]
    },
    {
     "data": {
      "text/html": [
       "<div>\n",
       "<style scoped>\n",
       "    .dataframe tbody tr th:only-of-type {\n",
       "        vertical-align: middle;\n",
       "    }\n",
       "\n",
       "    .dataframe tbody tr th {\n",
       "        vertical-align: top;\n",
       "    }\n",
       "\n",
       "    .dataframe thead th {\n",
       "        text-align: right;\n",
       "    }\n",
       "</style>\n",
       "<table border=\"1\" class=\"dataframe\">\n",
       "  <thead>\n",
       "    <tr style=\"text-align: right;\">\n",
       "      <th></th>\n",
       "      <th>responseId</th>\n",
       "      <th>createTime</th>\n",
       "      <th>lastSubmittedTime</th>\n",
       "      <th>234e7e73</th>\n",
       "      <th>3da5fa3b</th>\n",
       "      <th>6b3d5969</th>\n",
       "      <th>24063192</th>\n",
       "      <th>0dd4a9bd</th>\n",
       "      <th>74c570c0</th>\n",
       "      <th>5cc4d047</th>\n",
       "      <th>5c4463eb</th>\n",
       "      <th>0281a4fe</th>\n",
       "      <th>5f348883</th>\n",
       "      <th>22ab2366</th>\n",
       "      <th>01989e63</th>\n",
       "      <th>5ee9d63d</th>\n",
       "      <th>763bcc25</th>\n",
       "      <th>5545c00d</th>\n",
       "    </tr>\n",
       "  </thead>\n",
       "  <tbody>\n",
       "    <tr>\n",
       "      <th>0</th>\n",
       "      <td>ACYDBNi3KEdydoNv-MCTWrWyJaOKQw5NjX6aC1wWnbb96V...</td>\n",
       "      <td>2024-10-05T22:33:34.790Z</td>\n",
       "      <td>2024-10-05T22:33:34.790443Z</td>\n",
       "      <td>1</td>\n",
       "      <td>1</td>\n",
       "      <td>kevinlopez</td>\n",
       "      <td>Poor</td>\n",
       "      <td>No</td>\n",
       "      <td>Poor</td>\n",
       "      <td>Poor</td>\n",
       "      <td>asdf</td>\n",
       "      <td>1</td>\n",
       "      <td>asdf</td>\n",
       "      <td>Poor</td>\n",
       "      <td>Poor</td>\n",
       "      <td>Poor</td>\n",
       "      <td>No</td>\n",
       "      <td>Poor</td>\n",
       "    </tr>\n",
       "    <tr>\n",
       "      <th>1</th>\n",
       "      <td>ACYDBNgKGjbcLBSAKNopXJKtiPmK1_bwA0AvMwGhdZXMg7...</td>\n",
       "      <td>2024-10-05T22:18:58.393Z</td>\n",
       "      <td>2024-10-05T22:18:58.393108Z</td>\n",
       "      <td>6</td>\n",
       "      <td>6</td>\n",
       "      <td>asdf</td>\n",
       "      <td>Satisfactory</td>\n",
       "      <td>No</td>\n",
       "      <td>Fair</td>\n",
       "      <td>Fair</td>\n",
       "      <td>a</td>\n",
       "      <td>6</td>\n",
       "      <td>a</td>\n",
       "      <td>Poor</td>\n",
       "      <td>Fair</td>\n",
       "      <td>Satisfactory</td>\n",
       "      <td>Yes</td>\n",
       "      <td>Satisfactory</td>\n",
       "    </tr>\n",
       "    <tr>\n",
       "      <th>2</th>\n",
       "      <td>ACYDBNhoVwfdYx3cXoavNwx4vEgZkvPHIiDTihN-JariOu...</td>\n",
       "      <td>2024-10-05T22:24:30.202Z</td>\n",
       "      <td>2024-10-05T22:24:30.202967Z</td>\n",
       "      <td>8</td>\n",
       "      <td>5</td>\n",
       "      <td>asdf</td>\n",
       "      <td>Fair</td>\n",
       "      <td>No</td>\n",
       "      <td>Fair</td>\n",
       "      <td>Fair</td>\n",
       "      <td>f</td>\n",
       "      <td>8</td>\n",
       "      <td>f</td>\n",
       "      <td>Fair</td>\n",
       "      <td>Fair</td>\n",
       "      <td>Fair</td>\n",
       "      <td>No</td>\n",
       "      <td>Fair</td>\n",
       "    </tr>\n",
       "  </tbody>\n",
       "</table>\n",
       "</div>"
      ],
      "text/plain": [
       "                                          responseId  \\\n",
       "0  ACYDBNi3KEdydoNv-MCTWrWyJaOKQw5NjX6aC1wWnbb96V...   \n",
       "1  ACYDBNgKGjbcLBSAKNopXJKtiPmK1_bwA0AvMwGhdZXMg7...   \n",
       "2  ACYDBNhoVwfdYx3cXoavNwx4vEgZkvPHIiDTihN-JariOu...   \n",
       "\n",
       "                 createTime            lastSubmittedTime 234e7e73 3da5fa3b  \\\n",
       "0  2024-10-05T22:33:34.790Z  2024-10-05T22:33:34.790443Z        1        1   \n",
       "1  2024-10-05T22:18:58.393Z  2024-10-05T22:18:58.393108Z        6        6   \n",
       "2  2024-10-05T22:24:30.202Z  2024-10-05T22:24:30.202967Z        8        5   \n",
       "\n",
       "     6b3d5969      24063192 0dd4a9bd 74c570c0 5cc4d047 5c4463eb 0281a4fe  \\\n",
       "0  kevinlopez          Poor       No     Poor     Poor     asdf        1   \n",
       "1        asdf  Satisfactory       No     Fair     Fair        a        6   \n",
       "2        asdf          Fair       No     Fair     Fair        f        8   \n",
       "\n",
       "  5f348883 22ab2366 01989e63      5ee9d63d 763bcc25      5545c00d  \n",
       "0     asdf     Poor     Poor          Poor       No          Poor  \n",
       "1        a     Poor     Fair  Satisfactory      Yes  Satisfactory  \n",
       "2        f     Fair     Fair          Fair       No          Fair  "
      ]
     },
     "execution_count": 37,
     "metadata": {},
     "output_type": "execute_result"
    }
   ],
   "source": [
    "print(data)\n",
    "import pandas as pd\n",
    "\n",
    "\n",
    "rows = []\n",
    "for response in data[\"responses\"]:\n",
    "    print(response)\n",
    "    row = {'responseId': response['responseId'], 'createTime': response['createTime'], 'lastSubmittedTime': response['lastSubmittedTime']}\n",
    "    for question_id, answer_data in response['answers'].items():\n",
    "        row[question_id] = answer_data['textAnswers']['answers'][0]['value']\n",
    "    rows.append(row)\n",
    "\n",
    "# Creating DataFrame\n",
    "df = pd.DataFrame(rows)\n",
    "\n",
    "# Display DataFrame\n",
    "df"
   ]
  }
 ],
 "metadata": {
  "kernelspec": {
   "display_name": "pyqt-env",
   "language": "python",
   "name": "python3"
  },
  "language_info": {
   "codemirror_mode": {
    "name": "ipython",
    "version": 3
   },
   "file_extension": ".py",
   "mimetype": "text/x-python",
   "name": "python",
   "nbconvert_exporter": "python",
   "pygments_lexer": "ipython3",
   "version": "3.11.10"
  }
 },
 "nbformat": 4,
 "nbformat_minor": 2
}
