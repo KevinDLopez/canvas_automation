{
 "cells": [
  {
   "cell_type": "code",
   "execution_count": 1,
   "metadata": {},
   "outputs": [],
   "source": [
    "# !pip install --upgrade jupyter ipython\n",
    "%load_ext autoreload\n",
    "%autoreload 2\n"
   ]
  },
  {
   "cell_type": "code",
   "execution_count": 2,
   "metadata": {},
   "outputs": [],
   "source": [
    "\n",
    "import GoogleServices\n",
    "from GoogleServices.GoogleServices import GoogleServicesManager \n",
    "import pandas as pd"
   ]
  },
  {
   "cell_type": "code",
   "execution_count": 3,
   "metadata": {},
   "outputs": [],
   "source": [
    "gsm = GoogleServicesManager()"
   ]
  },
  {
   "cell_type": "code",
   "execution_count": 4,
   "metadata": {},
   "outputs": [],
   "source": [
    "# https://docs.google.com/forms/d/1XykFAgYiZgMLGq7qZTlVwwacGaA_hhMDsNqAN43M8IU/edit?ts=67019570&exids=71471476,71471470"
   ]
  },
  {
   "cell_type": "code",
   "execution_count": 5,
   "metadata": {},
   "outputs": [],
   "source": [
    "form = gsm.get_form(\"1XykFAgYiZgMLGq7qZTlVwwacGaA_hhMDsNqAN43M8IU\")\n",
    "\n",
    "# https://docs.google.com/forms/d/e/1FAIpQLSfZ08b-krK45cZzTyndqo_fGxUqwFw55yX3RFA4W1KIlZkRIA/viewform?usp=sf_link"
   ]
  },
  {
   "cell_type": "code",
   "execution_count": 6,
   "metadata": {},
   "outputs": [
    {
     "data": {
      "text/plain": [
       "{'formId': '1XykFAgYiZgMLGq7qZTlVwwacGaA_hhMDsNqAN43M8IU',\n",
       " 'info': {'title': 'Team \"Team_XYZ\" Paper & Presentation Evaluation',\n",
       "  'description': 'Please submit your feedback regarding the research topic, paper, and presentation of this team. ',\n",
       "  'documentTitle': 'Copy of SZZ-574-TT\"Team_XYZ\" Evaluation'},\n",
       " 'settings': {},\n",
       " 'revisionId': '00000003',\n",
       " 'responderUri': 'https://docs.google.com/forms/d/e/1FAIpQLSfDGMMu4Pos39jbBWM0Mfz_VmqZnej64iguiwpAe5gR5S899A/viewform',\n",
       " 'items': [{'itemId': '7790ec94',\n",
       "   'title': 'Your Full Name',\n",
       "   'questionItem': {'question': {'questionId': '6b3d5969',\n",
       "     'required': True,\n",
       "     'textQuestion': {}}}},\n",
       "  {'itemId': '733c8041',\n",
       "   'title': 'Have reviewed the paper?',\n",
       "   'questionItem': {'question': {'questionId': '0dd4a9bd',\n",
       "     'required': True,\n",
       "     'choiceQuestion': {'type': 'RADIO',\n",
       "      'options': [{'value': 'Yes'},\n",
       "       {'value': 'No'},\n",
       "       {'value': 'Not received it'}]}}}},\n",
       "  {'itemId': '02b0a6f4',\n",
       "   'questionGroupItem': {'questions': [{'questionId': '22ab2366',\n",
       "      'required': True,\n",
       "      'rowQuestion': {'title': 'Level of effort you put into the reserach'}},\n",
       "     {'questionId': '5ee9d63d',\n",
       "      'required': True,\n",
       "      'rowQuestion': {'title': 'How is the research topic'}}],\n",
       "    'grid': {'columns': {'type': 'RADIO',\n",
       "      'options': [{'value': 'Poor'},\n",
       "       {'value': 'Fair'},\n",
       "       {'value': 'Satisfactory'},\n",
       "       {'value': 'Very good'},\n",
       "       {'value': 'Excellent'}]}}},\n",
       "   'title': 'Level of effort'},\n",
       "  {'itemId': '7ae5ba16',\n",
       "   'questionGroupItem': {'questions': [{'questionId': '24063192',\n",
       "      'required': True,\n",
       "      'rowQuestion': {'title': 'Contribution of research to your skill/knowledge'}},\n",
       "     {'questionId': '5545c00d',\n",
       "      'required': True,\n",
       "      'rowQuestion': {'title': 'Presentations were clear and organized'}},\n",
       "     {'questionId': '01989e63',\n",
       "      'required': True,\n",
       "      'rowQuestion': {'title': 'Presenters stimulated student interest'}},\n",
       "     {'questionId': '74c570c0',\n",
       "      'required': True,\n",
       "      'rowQuestion': {'title': 'Paper manuscript format/organization'}},\n",
       "     {'questionId': '5cc4d047',\n",
       "      'required': True,\n",
       "      'rowQuestion': {'title': 'Paper content material benefits you?'}}],\n",
       "    'grid': {'columns': {'type': 'RADIO',\n",
       "      'options': [{'value': 'Poor'},\n",
       "       {'value': 'Fair'},\n",
       "       {'value': 'Satisfactory'},\n",
       "       {'value': 'Very good'},\n",
       "       {'value': 'Excellent'}]}}},\n",
       "   'title': 'Contribution to learning'},\n",
       "  {'itemId': '1249f6c3',\n",
       "   'title': 'Do you nominate this team for best paper?',\n",
       "   'questionItem': {'question': {'questionId': '763bcc25',\n",
       "     'required': True,\n",
       "     'choiceQuestion': {'type': 'RADIO',\n",
       "      'options': [{'value': 'Yes'}, {'value': 'No'}]}}}},\n",
       "  {'itemId': '4004a0fa',\n",
       "   'title': 'Feedback to the team',\n",
       "   'questionItem': {'question': {'questionId': '5c4463eb',\n",
       "     'required': True,\n",
       "     'textQuestion': {'paragraph': True}}}},\n",
       "  {'itemId': '4705f167',\n",
       "   'title': 'Write one sentence about what you learned from the Paper or Presentation.',\n",
       "   'questionItem': {'question': {'questionId': '5f348883',\n",
       "     'required': True,\n",
       "     'textQuestion': {'paragraph': True}}}},\n",
       "  {'itemId': '5f477fbe',\n",
       "   'title': \"Overall grade to this team's Slide deck?\",\n",
       "   'description': '[1-5] Does not meet the expectation;  [6-7] Meets expectation;   [8-9] Beyond expectation;  [10] Exceptional, even better than mine',\n",
       "   'questionItem': {'question': {'questionId': '3da5fa3b',\n",
       "     'required': True,\n",
       "     'scaleQuestion': {'low': 1,\n",
       "      'high': 10,\n",
       "      'lowLabel': 'Weak',\n",
       "      'highLabel': 'Exceptional'}}}},\n",
       "  {'itemId': '0b09ec1a',\n",
       "   'title': \"Overall grade to this team's Presentation skills?\",\n",
       "   'description': '[1-5] Does not meet the expectation;  [6-7] Meets expectation;   [8-9] Beyond expectation;  [10] Exceptional, even better than mine',\n",
       "   'questionItem': {'question': {'questionId': '234e7e73',\n",
       "     'required': True,\n",
       "     'scaleQuestion': {'low': 1,\n",
       "      'high': 10,\n",
       "      'lowLabel': 'Weak',\n",
       "      'highLabel': 'Exceptional'}}}},\n",
       "  {'itemId': '770e7ddc',\n",
       "   'title': \"Overall grade to this team's Research topic and (summary) paper content?\",\n",
       "   'description': '[1-5] Does not meet the expectation;  [6-7] Meets expectation;   [8-9] Beyond expectation;  [10] Exceptional, even better than mine',\n",
       "   'questionItem': {'question': {'questionId': '0281a4fe',\n",
       "     'required': True,\n",
       "     'scaleQuestion': {'low': 1,\n",
       "      'high': 10,\n",
       "      'lowLabel': 'Weak',\n",
       "      'highLabel': 'Exceptional'}}}}]}"
      ]
     },
     "execution_count": 6,
     "metadata": {},
     "output_type": "execute_result"
    }
   ],
   "source": [
    "form"
   ]
  },
  {
   "cell_type": "code",
   "execution_count": 7,
   "metadata": {},
   "outputs": [
    {
     "name": "stdout",
     "output_type": "stream",
     "text": [
      "created_form {'formId': '1TyANyHe7Tz8yy8_oPQvwnRbd7cpNgOm5x53SZbEMHPs', 'info': {'title': 'new Team Form', 'documentTitle': 'Untitled form'}, 'settings': {}, 'revisionId': '00000002', 'responderUri': 'https://docs.google.com/forms/d/e/1FAIpQLSdB2fJ-sRDBEKa1KYmVqg95E3mtZYwqCNaPo-b_loCT8eICLQ/viewform'}\n",
      "batch_update_response {'replies': [{'createItem': {'itemId': '7790ec94', 'questionId': ['6b3d5969']}}, {'createItem': {'itemId': '733c8041', 'questionId': ['0dd4a9bd']}}, {'createItem': {'itemId': '02b0a6f4', 'questionId': ['22ab2366', '5ee9d63d']}}, {'createItem': {'itemId': '7ae5ba16', 'questionId': ['24063192', '5545c00d', '01989e63', '74c570c0', '5cc4d047']}}, {'createItem': {'itemId': '1249f6c3', 'questionId': ['763bcc25']}}, {'createItem': {'itemId': '4004a0fa', 'questionId': ['5c4463eb']}}, {'createItem': {'itemId': '4705f167', 'questionId': ['5f348883']}}, {'createItem': {'itemId': '5f477fbe', 'questionId': ['3da5fa3b']}}, {'createItem': {'itemId': '0b09ec1a', 'questionId': ['234e7e73']}}, {'createItem': {'itemId': '770e7ddc', 'questionId': ['0281a4fe']}}], 'writeControl': {'requiredRevisionId': '00000004'}}\n",
      "Form ID: 1TyANyHe7Tz8yy8_oPQvwnRbd7cpNgOm5x53SZbEMHPs\n",
      "Form URL to edit: https://docs.google.com/forms/d/1TyANyHe7Tz8yy8_oPQvwnRbd7cpNgOm5x53SZbEMHPs/edit\n",
      "Form URL to view: https://docs.google.com/forms/d/e/1FAIpQLSdB2fJ-sRDBEKa1KYmVqg95E3mtZYwqCNaPo-b_loCT8eICLQ/viewform\n",
      "Title = new Team Form\n"
     ]
    }
   ],
   "source": [
    "\n",
    "new_form = gsm.make_copy_of_form(\"1XykFAgYiZgMLGq7qZTlVwwacGaA_hhMDsNqAN43M8IU\", \"new Team Form\")"
   ]
  },
  {
   "cell_type": "code",
   "execution_count": 8,
   "metadata": {},
   "outputs": [
    {
     "data": {
      "text/plain": [
       "{'formId': '1TyANyHe7Tz8yy8_oPQvwnRbd7cpNgOm5x53SZbEMHPs',\n",
       " 'info': {'title': 'new Team Form', 'documentTitle': 'Untitled form'},\n",
       " 'settings': {},\n",
       " 'revisionId': '00000002',\n",
       " 'responderUri': 'https://docs.google.com/forms/d/e/1FAIpQLSdB2fJ-sRDBEKa1KYmVqg95E3mtZYwqCNaPo-b_loCT8eICLQ/viewform'}"
      ]
     },
     "execution_count": 8,
     "metadata": {},
     "output_type": "execute_result"
    }
   ],
   "source": [
    "new_form"
   ]
  },
  {
   "cell_type": "markdown",
   "metadata": {},
   "source": [
    "# Make some reponses "
   ]
  },
  {
   "cell_type": "code",
   "execution_count": 10,
   "metadata": {},
   "outputs": [
    {
     "data": {
      "text/html": [
       "<div>\n",
       "<style scoped>\n",
       "    .dataframe tbody tr th:only-of-type {\n",
       "        vertical-align: middle;\n",
       "    }\n",
       "\n",
       "    .dataframe tbody tr th {\n",
       "        vertical-align: top;\n",
       "    }\n",
       "\n",
       "    .dataframe thead th {\n",
       "        text-align: right;\n",
       "    }\n",
       "</style>\n",
       "<table border=\"1\" class=\"dataframe\">\n",
       "  <thead>\n",
       "    <tr style=\"text-align: right;\">\n",
       "      <th></th>\n",
       "      <th>responseId</th>\n",
       "      <th>createTime</th>\n",
       "      <th>lastSubmittedTime</th>\n",
       "      <th>Overall grade to this team's Presentation skills?</th>\n",
       "      <th>Overall grade to this team's Slide deck?</th>\n",
       "      <th>Your Full Name</th>\n",
       "      <th>Contribution of research to your skill/knowledge</th>\n",
       "      <th>Have reviewed the paper?</th>\n",
       "      <th>Paper manuscript format/organization</th>\n",
       "      <th>Paper content material benefits you?</th>\n",
       "      <th>Feedback to the team</th>\n",
       "      <th>Overall grade to this team's Research topic and (summary) paper content?</th>\n",
       "      <th>Write one sentence about what you learned from the Paper or Presentation.</th>\n",
       "      <th>Level of effort you put into the reserach</th>\n",
       "      <th>Presenters stimulated student interest</th>\n",
       "      <th>How is the research topic</th>\n",
       "      <th>Do you nominate this team for best paper?</th>\n",
       "      <th>Presentations were clear and organized</th>\n",
       "    </tr>\n",
       "  </thead>\n",
       "  <tbody>\n",
       "    <tr>\n",
       "      <th>0</th>\n",
       "      <td>ACYDBNiI3jfjyWqUYaGepsyTjt8xQZ8iX0ffFcDVVqIYlg...</td>\n",
       "      <td>2024-10-12T03:45:32.295Z</td>\n",
       "      <td>2024-10-12T03:45:32.295254Z</td>\n",
       "      <td>1</td>\n",
       "      <td>1</td>\n",
       "      <td>asdf</td>\n",
       "      <td>Poor</td>\n",
       "      <td>Yes</td>\n",
       "      <td>Poor</td>\n",
       "      <td>Poor</td>\n",
       "      <td>asdf</td>\n",
       "      <td>1</td>\n",
       "      <td>asdf</td>\n",
       "      <td>Poor</td>\n",
       "      <td>Poor</td>\n",
       "      <td>Poor</td>\n",
       "      <td>Yes</td>\n",
       "      <td>Poor</td>\n",
       "    </tr>\n",
       "  </tbody>\n",
       "</table>\n",
       "</div>"
      ],
      "text/plain": [
       "                                          responseId  \\\n",
       "0  ACYDBNiI3jfjyWqUYaGepsyTjt8xQZ8iX0ffFcDVVqIYlg...   \n",
       "\n",
       "                 createTime            lastSubmittedTime  \\\n",
       "0  2024-10-12T03:45:32.295Z  2024-10-12T03:45:32.295254Z   \n",
       "\n",
       "  Overall grade to this team's Presentation skills?  \\\n",
       "0                                                 1   \n",
       "\n",
       "  Overall grade to this team's Slide deck? Your Full Name  \\\n",
       "0                                        1           asdf   \n",
       "\n",
       "  Contribution of research to your skill/knowledge Have reviewed the paper?  \\\n",
       "0                                             Poor                      Yes   \n",
       "\n",
       "  Paper manuscript format/organization Paper content material benefits you?  \\\n",
       "0                                 Poor                                 Poor   \n",
       "\n",
       "  Feedback to the team  \\\n",
       "0                 asdf   \n",
       "\n",
       "  Overall grade to this team's Research topic and (summary) paper content?  \\\n",
       "0                                                  1                         \n",
       "\n",
       "  Write one sentence about what you learned from the Paper or Presentation.  \\\n",
       "0                                               asdf                          \n",
       "\n",
       "  Level of effort you put into the reserach  \\\n",
       "0                                      Poor   \n",
       "\n",
       "  Presenters stimulated student interest How is the research topic  \\\n",
       "0                                   Poor                      Poor   \n",
       "\n",
       "  Do you nominate this team for best paper?  \\\n",
       "0                                       Yes   \n",
       "\n",
       "  Presentations were clear and organized  \n",
       "0                                   Poor  "
      ]
     },
     "execution_count": 10,
     "metadata": {},
     "output_type": "execute_result"
    }
   ],
   "source": [
    "\n",
    "gsm.get_form_responses(new_form['formId'])\n"
   ]
  },
  {
   "cell_type": "code",
   "execution_count": null,
   "metadata": {},
   "outputs": [],
   "source": []
  },
  {
   "cell_type": "code",
   "execution_count": null,
   "metadata": {},
   "outputs": [],
   "source": []
  }
 ],
 "metadata": {
  "kernelspec": {
   "display_name": "pyqt-env",
   "language": "python",
   "name": "python3"
  },
  "language_info": {
   "codemirror_mode": {
    "name": "ipython",
    "version": 3
   },
   "file_extension": ".py",
   "mimetype": "text/x-python",
   "name": "python",
   "nbconvert_exporter": "python",
   "pygments_lexer": "ipython3",
   "version": "3.11.10"
  }
 },
 "nbformat": 4,
 "nbformat_minor": 2
}
