{
 "cells": [
  {
   "cell_type": "code",
   "execution_count": 1,
   "metadata": {},
   "outputs": [],
   "source": [
    "# !pip install --upgrade jupyter ipython\n",
    "%load_ext autoreload\n",
    "%autoreload 2\n"
   ]
  },
  {
   "cell_type": "code",
   "execution_count": 2,
   "metadata": {},
   "outputs": [],
   "source": [
    "\n",
    "import GoogleServices\n",
    "from GoogleServices.GoogleServices import GoogleServicesManager \n",
    "import pandas as pd"
   ]
  },
  {
   "cell_type": "code",
   "execution_count": 3,
   "metadata": {},
   "outputs": [],
   "source": [
    "gsm = GoogleServicesManager()"
   ]
  },
  {
   "cell_type": "code",
   "execution_count": 4,
   "metadata": {},
   "outputs": [],
   "source": [
    "# https://docs.google.com/forms/d/1XykFAgYiZgMLGq7qZTlVwwacGaA_hhMDsNqAN43M8IU/edit?ts=67019570&exids=71471476,71471470"
   ]
  },
  {
   "cell_type": "code",
   "execution_count": 23,
   "metadata": {},
   "outputs": [],
   "source": [
    "form = gsm.get_form(\"1XykFAgYiZgMLGq7qZTlVwwacGaA_hhMDsNqAN43M8IU\")\n",
    "\n",
    "# https://docs.google.com/forms/d/e/1FAIpQLSfZ08b-krK45cZzTyndqo_fGxUqwFw55yX3RFA4W1KIlZkRIA/viewform?usp=sf_link"
   ]
  },
  {
   "cell_type": "code",
   "execution_count": 6,
   "metadata": {},
   "outputs": [
    {
     "data": {
      "text/plain": [
       "{'formId': '1XykFAgYiZgMLGq7qZTlVwwacGaA_hhMDsNqAN43M8IU',\n",
       " 'info': {'title': 'Team \"TeckTrek\" Paper & Presentation Evaluation',\n",
       "  'description': 'Please submit your feedback regarding the research topic, paper, and presentation of this team. ',\n",
       "  'documentTitle': 'F24-574-02 \"TechTrek\" Evaluation'},\n",
       " 'settings': {},\n",
       " 'revisionId': '0000000d',\n",
       " 'responderUri': 'https://docs.google.com/forms/d/e/1FAIpQLSfDGMMu4Pos39jbBWM0Mfz_VmqZnej64iguiwpAe5gR5S899A/viewform',\n",
       " 'items': [{'itemId': '7790ec94',\n",
       "   'title': 'Your Full Name',\n",
       "   'questionItem': {'question': {'questionId': '6b3d5969',\n",
       "     'required': True,\n",
       "     'textQuestion': {}}}},\n",
       "  {'itemId': '733c8041',\n",
       "   'title': 'Have reviewed the paper?',\n",
       "   'questionItem': {'question': {'questionId': '0dd4a9bd',\n",
       "     'required': True,\n",
       "     'choiceQuestion': {'type': 'RADIO',\n",
       "      'options': [{'value': 'Yes'},\n",
       "       {'value': 'No'},\n",
       "       {'value': 'Not received it'}]}}}},\n",
       "  {'itemId': '02b0a6f4',\n",
       "   'questionGroupItem': {'questions': [{'questionId': '22ab2366',\n",
       "      'required': True,\n",
       "      'rowQuestion': {'title': 'Level of effort you put into the reserach'}},\n",
       "     {'questionId': '5ee9d63d',\n",
       "      'required': True,\n",
       "      'rowQuestion': {'title': 'How is the research topic'}}],\n",
       "    'grid': {'columns': {'type': 'RADIO',\n",
       "      'options': [{'value': 'Poor'},\n",
       "       {'value': 'Fair'},\n",
       "       {'value': 'Satisfactory'},\n",
       "       {'value': 'Very good'},\n",
       "       {'value': 'Excellent'}]}}},\n",
       "   'title': 'Level of effort'},\n",
       "  {'itemId': '7ae5ba16',\n",
       "   'questionGroupItem': {'questions': [{'questionId': '24063192',\n",
       "      'required': True,\n",
       "      'rowQuestion': {'title': 'Contribution of research to your skill/knowledge'}},\n",
       "     {'questionId': '5545c00d',\n",
       "      'required': True,\n",
       "      'rowQuestion': {'title': 'Presentations were clear and organized'}},\n",
       "     {'questionId': '01989e63',\n",
       "      'required': True,\n",
       "      'rowQuestion': {'title': 'Presenters stimulated student interest'}},\n",
       "     {'questionId': '74c570c0',\n",
       "      'required': True,\n",
       "      'rowQuestion': {'title': 'Paper manuscript format/organization'}},\n",
       "     {'questionId': '5cc4d047',\n",
       "      'required': True,\n",
       "      'rowQuestion': {'title': 'Paper content material benefits you?'}}],\n",
       "    'grid': {'columns': {'type': 'RADIO',\n",
       "      'options': [{'value': 'Poor'},\n",
       "       {'value': 'Fair'},\n",
       "       {'value': 'Satisfactory'},\n",
       "       {'value': 'Very good'},\n",
       "       {'value': 'Excellent'}]}}},\n",
       "   'title': 'Contribution to learning'},\n",
       "  {'itemId': '1249f6c3',\n",
       "   'title': 'Do you nominate this team for best paper?',\n",
       "   'questionItem': {'question': {'questionId': '763bcc25',\n",
       "     'required': True,\n",
       "     'choiceQuestion': {'type': 'RADIO',\n",
       "      'options': [{'value': 'Yes'}, {'value': 'No'}]}}}},\n",
       "  {'itemId': '4004a0fa',\n",
       "   'title': 'Feedback to the team',\n",
       "   'questionItem': {'question': {'questionId': '5c4463eb',\n",
       "     'required': True,\n",
       "     'textQuestion': {'paragraph': True}}}},\n",
       "  {'itemId': '4705f167',\n",
       "   'title': 'Write one sentence about what you learned from the Paper or Presentation.',\n",
       "   'questionItem': {'question': {'questionId': '5f348883',\n",
       "     'required': True,\n",
       "     'textQuestion': {'paragraph': True}}}},\n",
       "  {'itemId': '5f477fbe',\n",
       "   'title': \"Overall grade to this team's Slide deck?\",\n",
       "   'description': '[1-5] Does not meet the expectation;  [6-7] Meets expectation;   [8-9] Beyond expectation;  [10] Exceptional, even better than mine',\n",
       "   'questionItem': {'question': {'questionId': '3da5fa3b',\n",
       "     'required': True,\n",
       "     'scaleQuestion': {'low': 1,\n",
       "      'high': 10,\n",
       "      'lowLabel': 'Weak',\n",
       "      'highLabel': 'Exceptional'}}}},\n",
       "  {'itemId': '0b09ec1a',\n",
       "   'title': \"Overall grade to this team's Presentation skills?\",\n",
       "   'description': '[1-5] Does not meet the expectation;  [6-7] Meets expectation;   [8-9] Beyond expectation;  [10] Exceptional, even better than mine',\n",
       "   'questionItem': {'question': {'questionId': '234e7e73',\n",
       "     'required': True,\n",
       "     'scaleQuestion': {'low': 1,\n",
       "      'high': 10,\n",
       "      'lowLabel': 'Weak',\n",
       "      'highLabel': 'Exceptional'}}}},\n",
       "  {'itemId': '770e7ddc',\n",
       "   'title': \"Overall grade to this team's Research topic and (summary) paper content?\",\n",
       "   'description': '[1-5] Does not meet the expectation;  [6-7] Meets expectation;   [8-9] Beyond expectation;  [10] Exceptional, even better than mine',\n",
       "   'questionItem': {'question': {'questionId': '0281a4fe',\n",
       "     'required': True,\n",
       "     'scaleQuestion': {'low': 1,\n",
       "      'high': 10,\n",
       "      'lowLabel': 'Weak',\n",
       "      'highLabel': 'Exceptional'}}}}]}"
      ]
     },
     "execution_count": 6,
     "metadata": {},
     "output_type": "execute_result"
    }
   ],
   "source": [
    "form"
   ]
  },
  {
   "cell_type": "code",
   "execution_count": 24,
   "metadata": {},
   "outputs": [
    {
     "name": "stdout",
     "output_type": "stream",
     "text": [
      "created_form {'formId': '1UwS-2ntDwCXjQWsS0ADsZvDWzV0MMeo6I-mw5zcbVrw', 'info': {'title': 'new Team Form22', 'documentTitle': 'Untitled form'}, 'settings': {}, 'revisionId': '00000002', 'responderUri': 'https://docs.google.com/forms/d/e/1FAIpQLSfbUk5mUtXlQJuymPmc9mOHZ5tjQQ8NnYE0H31L6-JHyUwY1Q/viewform'}\n",
      "batch_update_response {'replies': [{'createItem': {'itemId': '4e2dbc3c', 'questionId': ['06dc8b60']}}, {'createItem': {'itemId': '7790ec94', 'questionId': ['6b3d5969']}}, {'createItem': {'itemId': '733c8041', 'questionId': ['0dd4a9bd']}}, {'createItem': {'itemId': '02b0a6f4', 'questionId': ['22ab2366', '5ee9d63d']}}, {'createItem': {'itemId': '7ae5ba16', 'questionId': ['24063192', '5545c00d', '01989e63', '74c570c0', '5cc4d047']}}, {'createItem': {'itemId': '1249f6c3', 'questionId': ['763bcc25']}}, {'createItem': {'itemId': '4004a0fa', 'questionId': ['5c4463eb']}}, {'createItem': {'itemId': '4705f167', 'questionId': ['5f348883']}}, {'createItem': {'itemId': '5f477fbe', 'questionId': ['3da5fa3b']}}, {'createItem': {'itemId': '0b09ec1a', 'questionId': ['234e7e73']}}, {'createItem': {'itemId': '770e7ddc', 'questionId': ['0281a4fe']}}], 'writeControl': {'requiredRevisionId': '00000004'}}\n",
      "Form ID: 1UwS-2ntDwCXjQWsS0ADsZvDWzV0MMeo6I-mw5zcbVrw\n",
      "Form URL to edit: https://docs.google.com/forms/d/1UwS-2ntDwCXjQWsS0ADsZvDWzV0MMeo6I-mw5zcbVrw/edit\n",
      "Form URL to view: https://docs.google.com/forms/d/e/1FAIpQLSfbUk5mUtXlQJuymPmc9mOHZ5tjQQ8NnYE0H31L6-JHyUwY1Q/viewform\n",
      "Title = new Team Form22\n"
     ]
    }
   ],
   "source": [
    "\n",
    "new_form = gsm.make_copy_of_form(\"1XykFAgYiZgMLGq7qZTlVwwacGaA_hhMDsNqAN43M8IU\", \"new Team Form22\")"
   ]
  },
  {
   "cell_type": "markdown",
   "metadata": {},
   "source": [
    "# Make some reponses "
   ]
  },
  {
   "cell_type": "code",
   "execution_count": 8,
   "metadata": {},
   "outputs": [],
   "source": [
    "\n",
    "responses = gsm.get_form_responses(new_form['formId'])\n"
   ]
  },
  {
   "cell_type": "code",
   "execution_count": 9,
   "metadata": {},
   "outputs": [
    {
     "data": {
      "text/html": [
       "<div>\n",
       "<style scoped>\n",
       "    .dataframe tbody tr th:only-of-type {\n",
       "        vertical-align: middle;\n",
       "    }\n",
       "\n",
       "    .dataframe tbody tr th {\n",
       "        vertical-align: top;\n",
       "    }\n",
       "\n",
       "    .dataframe thead th {\n",
       "        text-align: right;\n",
       "    }\n",
       "</style>\n",
       "<table border=\"1\" class=\"dataframe\">\n",
       "  <thead>\n",
       "    <tr style=\"text-align: right;\">\n",
       "      <th></th>\n",
       "      <th>responseId</th>\n",
       "      <th>createTime</th>\n",
       "      <th>lastSubmittedTime</th>\n",
       "      <th>Overall grade to this team's Presentation skills?</th>\n",
       "      <th>Overall grade to this team's Slide deck?</th>\n",
       "      <th>Your Full Name</th>\n",
       "      <th>Contribution of research to your skill/knowledge</th>\n",
       "      <th>Have reviewed the paper?</th>\n",
       "      <th>Paper manuscript format/organization</th>\n",
       "      <th>Paper content material benefits you?</th>\n",
       "      <th>Feedback to the team</th>\n",
       "      <th>Overall grade to this team's Research topic and (summary) paper content?</th>\n",
       "      <th>Write one sentence about what you learned from the Paper or Presentation.</th>\n",
       "      <th>Level of effort you put into the reserach</th>\n",
       "      <th>Presenters stimulated student interest</th>\n",
       "      <th>How is the research topic</th>\n",
       "      <th>Do you nominate this team for best paper?</th>\n",
       "      <th>Presentations were clear and organized</th>\n",
       "    </tr>\n",
       "  </thead>\n",
       "  <tbody>\n",
       "    <tr>\n",
       "      <th>0</th>\n",
       "      <td>ACYDBNgnboDq1Hgw53QBUkPLkXSJOF1D69XACf8NP0dUUM...</td>\n",
       "      <td>2024-10-19T05:25:41.305Z</td>\n",
       "      <td>2024-10-19T05:25:41.305299Z</td>\n",
       "      <td>1</td>\n",
       "      <td>1</td>\n",
       "      <td>aside</td>\n",
       "      <td>Poor</td>\n",
       "      <td>Yes</td>\n",
       "      <td>Poor</td>\n",
       "      <td>Poor</td>\n",
       "      <td>asdf</td>\n",
       "      <td>1</td>\n",
       "      <td>asdf</td>\n",
       "      <td>Poor</td>\n",
       "      <td>Poor</td>\n",
       "      <td>Poor</td>\n",
       "      <td>Yes</td>\n",
       "      <td>Poor</td>\n",
       "    </tr>\n",
       "    <tr>\n",
       "      <th>1</th>\n",
       "      <td>ACYDBNgAFKJEeMfivfDH2oEvoDuzxxf1_2denZgcUAAc5L...</td>\n",
       "      <td>2024-10-19T05:25:59.142Z</td>\n",
       "      <td>2024-10-19T05:25:59.142610Z</td>\n",
       "      <td>1</td>\n",
       "      <td>1</td>\n",
       "      <td>ewer</td>\n",
       "      <td>Poor</td>\n",
       "      <td>Yes</td>\n",
       "      <td>Poor</td>\n",
       "      <td>Poor</td>\n",
       "      <td>ear</td>\n",
       "      <td>1</td>\n",
       "      <td>wer</td>\n",
       "      <td>Poor</td>\n",
       "      <td>Poor</td>\n",
       "      <td>Poor</td>\n",
       "      <td>Yes</td>\n",
       "      <td>Poor</td>\n",
       "    </tr>\n",
       "  </tbody>\n",
       "</table>\n",
       "</div>"
      ],
      "text/plain": [
       "                                          responseId  \\\n",
       "0  ACYDBNgnboDq1Hgw53QBUkPLkXSJOF1D69XACf8NP0dUUM...   \n",
       "1  ACYDBNgAFKJEeMfivfDH2oEvoDuzxxf1_2denZgcUAAc5L...   \n",
       "\n",
       "                 createTime            lastSubmittedTime  \\\n",
       "0  2024-10-19T05:25:41.305Z  2024-10-19T05:25:41.305299Z   \n",
       "1  2024-10-19T05:25:59.142Z  2024-10-19T05:25:59.142610Z   \n",
       "\n",
       "  Overall grade to this team's Presentation skills?  \\\n",
       "0                                                 1   \n",
       "1                                                 1   \n",
       "\n",
       "  Overall grade to this team's Slide deck? Your Full Name  \\\n",
       "0                                        1          aside   \n",
       "1                                        1           ewer   \n",
       "\n",
       "  Contribution of research to your skill/knowledge Have reviewed the paper?  \\\n",
       "0                                             Poor                      Yes   \n",
       "1                                             Poor                      Yes   \n",
       "\n",
       "  Paper manuscript format/organization Paper content material benefits you?  \\\n",
       "0                                 Poor                                 Poor   \n",
       "1                                 Poor                                 Poor   \n",
       "\n",
       "  Feedback to the team  \\\n",
       "0                 asdf   \n",
       "1                  ear   \n",
       "\n",
       "  Overall grade to this team's Research topic and (summary) paper content?  \\\n",
       "0                                                  1                         \n",
       "1                                                  1                         \n",
       "\n",
       "  Write one sentence about what you learned from the Paper or Presentation.  \\\n",
       "0                                               asdf                          \n",
       "1                                                wer                          \n",
       "\n",
       "  Level of effort you put into the reserach  \\\n",
       "0                                      Poor   \n",
       "1                                      Poor   \n",
       "\n",
       "  Presenters stimulated student interest How is the research topic  \\\n",
       "0                                   Poor                      Poor   \n",
       "1                                   Poor                      Poor   \n",
       "\n",
       "  Do you nominate this team for best paper?  \\\n",
       "0                                       Yes   \n",
       "1                                       Yes   \n",
       "\n",
       "  Presentations were clear and organized  \n",
       "0                                   Poor  \n",
       "1                                   Poor  "
      ]
     },
     "execution_count": 9,
     "metadata": {},
     "output_type": "execute_result"
    }
   ],
   "source": [
    "responses"
   ]
  },
  {
   "cell_type": "code",
   "execution_count": 13,
   "metadata": {},
   "outputs": [
    {
     "data": {
      "text/plain": [
       "np.float64(1.0)"
      ]
     },
     "execution_count": 13,
     "metadata": {},
     "output_type": "execute_result"
    }
   ],
   "source": [
    "responses[\"Overall grade to this team\\'s Presentation skills?\"].apply(pd.to_numeric, errors='coerce').mean()"
   ]
  },
  {
   "cell_type": "code",
   "execution_count": null,
   "metadata": {},
   "outputs": [],
   "source": []
  },
  {
   "cell_type": "code",
   "execution_count": 22,
   "metadata": {},
   "outputs": [
    {
     "name": "stdout",
     "output_type": "stream",
     "text": [
      "No responses yet\n"
     ]
    },
    {
     "ename": "Exception",
     "evalue": "No responses yet",
     "output_type": "error",
     "traceback": [
      "\u001b[0;31m---------------------------------------------------------------------------\u001b[0m",
      "\u001b[0;31mException\u001b[0m                                 Traceback (most recent call last)",
      "Cell \u001b[0;32mIn[22], line 1\u001b[0m\n\u001b[0;32m----> 1\u001b[0m responses \u001b[38;5;241m=\u001b[39m \u001b[43mgsm\u001b[49m\u001b[38;5;241;43m.\u001b[39;49m\u001b[43mget_form_responses\u001b[49m\u001b[43m(\u001b[49m\u001b[38;5;124;43m\"\u001b[39;49m\u001b[38;5;124;43m1tmwMxtUVeDtfLr3uthGLeZN4G6DOLNfD4Gpdy5UrOO4\u001b[39;49m\u001b[38;5;124;43m\"\u001b[39;49m\u001b[43m)\u001b[49m\n",
      "File \u001b[0;32m~/Repositories/School/Semester4/CECS_574/canvas_automation/GoogleServices/GoogleServices.py:195\u001b[0m, in \u001b[0;36mGoogleServicesManager.get_form_responses\u001b[0;34m(self, form_id)\u001b[0m\n\u001b[1;32m    193\u001b[0m \u001b[38;5;28;01mif\u001b[39;00m \u001b[38;5;124m\"\u001b[39m\u001b[38;5;124mresponses\u001b[39m\u001b[38;5;124m\"\u001b[39m \u001b[38;5;129;01mnot\u001b[39;00m \u001b[38;5;129;01min\u001b[39;00m data:\n\u001b[1;32m    194\u001b[0m     \u001b[38;5;28mprint\u001b[39m(\u001b[38;5;124m\"\u001b[39m\u001b[38;5;124mNo responses yet\u001b[39m\u001b[38;5;124m\"\u001b[39m)\n\u001b[0;32m--> 195\u001b[0m     \u001b[38;5;28;01mraise\u001b[39;00m \u001b[38;5;167;01mException\u001b[39;00m(\u001b[38;5;124m\"\u001b[39m\u001b[38;5;124mNo responses yet\u001b[39m\u001b[38;5;124m\"\u001b[39m)\n\u001b[1;32m    196\u001b[0m \u001b[38;5;28;01mfor\u001b[39;00m response \u001b[38;5;129;01min\u001b[39;00m data[\u001b[38;5;124m\"\u001b[39m\u001b[38;5;124mresponses\u001b[39m\u001b[38;5;124m\"\u001b[39m]:\n\u001b[1;32m    197\u001b[0m     \u001b[38;5;66;03m# print(response)\u001b[39;00m\n\u001b[1;32m    198\u001b[0m     row \u001b[38;5;241m=\u001b[39m {\n\u001b[1;32m    199\u001b[0m         \u001b[38;5;124m\"\u001b[39m\u001b[38;5;124mresponseId\u001b[39m\u001b[38;5;124m\"\u001b[39m: response[\u001b[38;5;124m\"\u001b[39m\u001b[38;5;124mresponseId\u001b[39m\u001b[38;5;124m\"\u001b[39m],\n\u001b[1;32m    200\u001b[0m         \u001b[38;5;124m\"\u001b[39m\u001b[38;5;124mcreateTime\u001b[39m\u001b[38;5;124m\"\u001b[39m: response[\u001b[38;5;124m\"\u001b[39m\u001b[38;5;124mcreateTime\u001b[39m\u001b[38;5;124m\"\u001b[39m],\n\u001b[1;32m    201\u001b[0m         \u001b[38;5;124m\"\u001b[39m\u001b[38;5;124mlastSubmittedTime\u001b[39m\u001b[38;5;124m\"\u001b[39m: response[\u001b[38;5;124m\"\u001b[39m\u001b[38;5;124mlastSubmittedTime\u001b[39m\u001b[38;5;124m\"\u001b[39m],\n\u001b[1;32m    202\u001b[0m     }\n",
      "\u001b[0;31mException\u001b[0m: No responses yet"
     ]
    }
   ],
   "source": [
    "responses = gsm.get_form_responses(\"1UwS-2ntDwCXjQWsS0ADsZvDWzV0MMeo6I-mw5zcbVrw\")"
   ]
  },
  {
   "cell_type": "code",
   "execution_count": 17,
   "metadata": {},
   "outputs": [
    {
     "data": {
      "text/html": [
       "<div>\n",
       "<style scoped>\n",
       "    .dataframe tbody tr th:only-of-type {\n",
       "        vertical-align: middle;\n",
       "    }\n",
       "\n",
       "    .dataframe tbody tr th {\n",
       "        vertical-align: top;\n",
       "    }\n",
       "\n",
       "    .dataframe thead th {\n",
       "        text-align: right;\n",
       "    }\n",
       "</style>\n",
       "<table border=\"1\" class=\"dataframe\">\n",
       "  <thead>\n",
       "    <tr style=\"text-align: right;\">\n",
       "      <th></th>\n",
       "      <th>responseId</th>\n",
       "      <th>createTime</th>\n",
       "      <th>lastSubmittedTime</th>\n",
       "      <th>Overall grade to this team's Presentation skills?</th>\n",
       "      <th>Overall grade to this team's Slide deck?</th>\n",
       "      <th>Your Full Name</th>\n",
       "      <th>Contribution of research to your skill/knowledge</th>\n",
       "      <th>Email</th>\n",
       "      <th>Have reviewed the paper?</th>\n",
       "      <th>Paper manuscript format/organization</th>\n",
       "      <th>Paper content material benefits you?</th>\n",
       "      <th>Feedback to the team</th>\n",
       "      <th>Overall grade to this team's Research topic and (summary) paper content?</th>\n",
       "      <th>Write one sentence about what you learned from the Paper or Presentation.</th>\n",
       "      <th>Level of effort you put into the reserach</th>\n",
       "      <th>Presenters stimulated student interest</th>\n",
       "      <th>How is the research topic</th>\n",
       "      <th>Do you nominate this team for best paper?</th>\n",
       "      <th>Presentations were clear and organized</th>\n",
       "    </tr>\n",
       "  </thead>\n",
       "  <tbody>\n",
       "    <tr>\n",
       "      <th>0</th>\n",
       "      <td>ACYDBNgbU8osCoI9u8FqNqN5Z1bg7ITr4a54YN6NbdoKBU...</td>\n",
       "      <td>2024-10-19T23:57:56.452Z</td>\n",
       "      <td>2024-10-19T23:57:56.452976Z</td>\n",
       "      <td>1</td>\n",
       "      <td>1</td>\n",
       "      <td>asdf</td>\n",
       "      <td>Poor</td>\n",
       "      <td>Kevin.Lopez@student.csulb.edu</td>\n",
       "      <td>Yes</td>\n",
       "      <td>Poor</td>\n",
       "      <td>Poor</td>\n",
       "      <td>asdf</td>\n",
       "      <td>1</td>\n",
       "      <td>asdf</td>\n",
       "      <td>Poor</td>\n",
       "      <td>Poor</td>\n",
       "      <td>Poor</td>\n",
       "      <td>Yes</td>\n",
       "      <td>Poor</td>\n",
       "    </tr>\n",
       "  </tbody>\n",
       "</table>\n",
       "</div>"
      ],
      "text/plain": [
       "                                          responseId  \\\n",
       "0  ACYDBNgbU8osCoI9u8FqNqN5Z1bg7ITr4a54YN6NbdoKBU...   \n",
       "\n",
       "                 createTime            lastSubmittedTime  \\\n",
       "0  2024-10-19T23:57:56.452Z  2024-10-19T23:57:56.452976Z   \n",
       "\n",
       "  Overall grade to this team's Presentation skills?  \\\n",
       "0                                                 1   \n",
       "\n",
       "  Overall grade to this team's Slide deck? Your Full Name  \\\n",
       "0                                        1           asdf   \n",
       "\n",
       "  Contribution of research to your skill/knowledge  \\\n",
       "0                                             Poor   \n",
       "\n",
       "                           Email Have reviewed the paper?  \\\n",
       "0  Kevin.Lopez@student.csulb.edu                      Yes   \n",
       "\n",
       "  Paper manuscript format/organization Paper content material benefits you?  \\\n",
       "0                                 Poor                                 Poor   \n",
       "\n",
       "  Feedback to the team  \\\n",
       "0                 asdf   \n",
       "\n",
       "  Overall grade to this team's Research topic and (summary) paper content?  \\\n",
       "0                                                  1                         \n",
       "\n",
       "  Write one sentence about what you learned from the Paper or Presentation.  \\\n",
       "0                                               asdf                          \n",
       "\n",
       "  Level of effort you put into the reserach  \\\n",
       "0                                      Poor   \n",
       "\n",
       "  Presenters stimulated student interest How is the research topic  \\\n",
       "0                                   Poor                      Poor   \n",
       "\n",
       "  Do you nominate this team for best paper?  \\\n",
       "0                                       Yes   \n",
       "\n",
       "  Presentations were clear and organized  \n",
       "0                                   Poor  "
      ]
     },
     "execution_count": 17,
     "metadata": {},
     "output_type": "execute_result"
    }
   ],
   "source": [
    "responses"
   ]
  },
  {
   "cell_type": "code",
   "execution_count": 19,
   "metadata": {},
   "outputs": [
    {
     "name": "stdout",
     "output_type": "stream",
     "text": [
      "1.0\n"
     ]
    }
   ],
   "source": [
    "\n",
    "# Convert the relevant columns to numeric, setting non-numeric values to NaN\n",
    "responses[\"Overall grade to this team's Slide deck?\"] = pd.to_numeric(responses[\"Overall grade to this team's Slide deck?\"], errors='coerce')\n",
    "responses[\"Overall grade to this team's Presentation skills?\"] = pd.to_numeric(responses[\"Overall grade to this team's Presentation skills?\"], errors='coerce')\n",
    "responses[\"Overall grade to this team's Research topic and (summary) paper content?\"] = pd.to_numeric(responses[\"Overall grade to this team's Research topic and (summary) paper content?\"], errors='coerce')\n",
    "\n",
    "# Calculate the overall mean\n",
    "overall_mean = (\n",
    "    responses[\"Overall grade to this team's Slide deck?\"].mean() +\n",
    "    responses[\"Overall grade to this team's Presentation skills?\"].mean() +\n",
    "    responses[\"Overall grade to this team's Research topic and (summary) paper content?\"].mean()\n",
    ") / 3\n",
    "\n",
    "print(overall_mean)"
   ]
  },
  {
   "cell_type": "code",
   "execution_count": null,
   "metadata": {},
   "outputs": [],
   "source": []
  },
  {
   "cell_type": "code",
   "execution_count": null,
   "metadata": {},
   "outputs": [],
   "source": []
  }
 ],
 "metadata": {
  "kernelspec": {
   "display_name": "pyqt-env",
   "language": "python",
   "name": "python3"
  },
  "language_info": {
   "codemirror_mode": {
    "name": "ipython",
    "version": 3
   },
   "file_extension": ".py",
   "mimetype": "text/x-python",
   "name": "python",
   "nbconvert_exporter": "python",
   "pygments_lexer": "ipython3",
   "version": "3.11.10"
  }
 },
 "nbformat": 4,
 "nbformat_minor": 2
}
